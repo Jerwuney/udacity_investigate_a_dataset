{
 "cells": [
  {
   "cell_type": "markdown",
   "id": "e4ab394b",
   "metadata": {},
   "source": [
    "> **Tip**: Welcome to the Investigate a Dataset project! You will find tips in quoted sections like this to help organize your approach to your investigation.\n",
    "\n",
    "# Project: Investigate a Dataset: 'tmdb-movies', Based on some movies popularity\n",
    "\n",
    "## Table of Contents\n",
    "<ul>\n",
    "<li><a href=\"#intro\">Introduction</a></li>\n",
    "<li><a href=\"#wrangling\">Data Wrangling</a></li>\n",
    "<li><a href=\"#eda\">Exploratory Data Analysis</a></li>\n",
    "<li><a href=\"#conclusions\">Conclusions</a></li>\n",
    "</ul>"
   ]
  },
  {
   "cell_type": "markdown",
   "id": "24c1feb0",
   "metadata": {},
   "source": [
    "<a id='intro'></a>\n",
    "## Introduction\n",
    "\n",
    "> **Tip**: The dataset about movies production is analysed in this work. The dataset is a .csv file with more than 10000 samples and 21 columns. It is mainly about the production of movies, polularity, and revenue. \n",
    "\n",
    "Two dependent variables are explored against several independent variable separately. \n",
    "1. The first dependent variable was the number of movies, which was not explicitely stated in the dataset. It was explored against the years of release, the directors, and the genres.\n",
    "2. The second was 'revenue', which was explored against popularity, budget, directorship, and the year of release.\n",
    "3. Several plots are presented for visualisations"
   ]
  },
  {
   "cell_type": "code",
   "execution_count": 89,
   "id": "08c79464",
   "metadata": {},
   "outputs": [],
   "source": [
    "# import the relevant libraries\n",
    "\n",
    "import pandas as pd\n",
    "import matplotlib.pyplot as plt\n",
    "import seaborn as sns\n",
    "import numpy as np\n",
    "%matplotlib inline"
   ]
  },
  {
   "cell_type": "code",
   "execution_count": 90,
   "id": "1996ff81",
   "metadata": {},
   "outputs": [
    {
     "data": {
      "text/html": [
       "<div>\n",
       "<style scoped>\n",
       "    .dataframe tbody tr th:only-of-type {\n",
       "        vertical-align: middle;\n",
       "    }\n",
       "\n",
       "    .dataframe tbody tr th {\n",
       "        vertical-align: top;\n",
       "    }\n",
       "\n",
       "    .dataframe thead th {\n",
       "        text-align: right;\n",
       "    }\n",
       "</style>\n",
       "<table border=\"1\" class=\"dataframe\">\n",
       "  <thead>\n",
       "    <tr style=\"text-align: right;\">\n",
       "      <th></th>\n",
       "      <th>id</th>\n",
       "      <th>imdb_id</th>\n",
       "      <th>popularity</th>\n",
       "      <th>budget</th>\n",
       "      <th>revenue</th>\n",
       "      <th>original_title</th>\n",
       "      <th>cast</th>\n",
       "      <th>homepage</th>\n",
       "      <th>director</th>\n",
       "      <th>tagline</th>\n",
       "      <th>...</th>\n",
       "      <th>overview</th>\n",
       "      <th>runtime</th>\n",
       "      <th>genres</th>\n",
       "      <th>production_companies</th>\n",
       "      <th>release_date</th>\n",
       "      <th>vote_count</th>\n",
       "      <th>vote_average</th>\n",
       "      <th>release_year</th>\n",
       "      <th>budget_adj</th>\n",
       "      <th>revenue_adj</th>\n",
       "    </tr>\n",
       "  </thead>\n",
       "  <tbody>\n",
       "    <tr>\n",
       "      <th>0</th>\n",
       "      <td>135397</td>\n",
       "      <td>tt0369610</td>\n",
       "      <td>32.985763</td>\n",
       "      <td>150000000</td>\n",
       "      <td>1513528810</td>\n",
       "      <td>Jurassic World</td>\n",
       "      <td>Chris Pratt|Bryce Dallas Howard|Irrfan Khan|Vi...</td>\n",
       "      <td>http://www.jurassicworld.com/</td>\n",
       "      <td>Colin Trevorrow</td>\n",
       "      <td>The park is open.</td>\n",
       "      <td>...</td>\n",
       "      <td>Twenty-two years after the events of Jurassic ...</td>\n",
       "      <td>124</td>\n",
       "      <td>Action|Adventure|Science Fiction|Thriller</td>\n",
       "      <td>Universal Studios|Amblin Entertainment|Legenda...</td>\n",
       "      <td>6/9/15</td>\n",
       "      <td>5562</td>\n",
       "      <td>6.5</td>\n",
       "      <td>2015</td>\n",
       "      <td>1.379999e+08</td>\n",
       "      <td>1.392446e+09</td>\n",
       "    </tr>\n",
       "    <tr>\n",
       "      <th>1</th>\n",
       "      <td>76341</td>\n",
       "      <td>tt1392190</td>\n",
       "      <td>28.419936</td>\n",
       "      <td>150000000</td>\n",
       "      <td>378436354</td>\n",
       "      <td>Mad Max: Fury Road</td>\n",
       "      <td>Tom Hardy|Charlize Theron|Hugh Keays-Byrne|Nic...</td>\n",
       "      <td>http://www.madmaxmovie.com/</td>\n",
       "      <td>George Miller</td>\n",
       "      <td>What a Lovely Day.</td>\n",
       "      <td>...</td>\n",
       "      <td>An apocalyptic story set in the furthest reach...</td>\n",
       "      <td>120</td>\n",
       "      <td>Action|Adventure|Science Fiction|Thriller</td>\n",
       "      <td>Village Roadshow Pictures|Kennedy Miller Produ...</td>\n",
       "      <td>5/13/15</td>\n",
       "      <td>6185</td>\n",
       "      <td>7.1</td>\n",
       "      <td>2015</td>\n",
       "      <td>1.379999e+08</td>\n",
       "      <td>3.481613e+08</td>\n",
       "    </tr>\n",
       "    <tr>\n",
       "      <th>2</th>\n",
       "      <td>262500</td>\n",
       "      <td>tt2908446</td>\n",
       "      <td>13.112507</td>\n",
       "      <td>110000000</td>\n",
       "      <td>295238201</td>\n",
       "      <td>Insurgent</td>\n",
       "      <td>Shailene Woodley|Theo James|Kate Winslet|Ansel...</td>\n",
       "      <td>http://www.thedivergentseries.movie/#insurgent</td>\n",
       "      <td>Robert Schwentke</td>\n",
       "      <td>One Choice Can Destroy You</td>\n",
       "      <td>...</td>\n",
       "      <td>Beatrice Prior must confront her inner demons ...</td>\n",
       "      <td>119</td>\n",
       "      <td>Adventure|Science Fiction|Thriller</td>\n",
       "      <td>Summit Entertainment|Mandeville Films|Red Wago...</td>\n",
       "      <td>3/18/15</td>\n",
       "      <td>2480</td>\n",
       "      <td>6.3</td>\n",
       "      <td>2015</td>\n",
       "      <td>1.012000e+08</td>\n",
       "      <td>2.716190e+08</td>\n",
       "    </tr>\n",
       "    <tr>\n",
       "      <th>3</th>\n",
       "      <td>140607</td>\n",
       "      <td>tt2488496</td>\n",
       "      <td>11.173104</td>\n",
       "      <td>200000000</td>\n",
       "      <td>2068178225</td>\n",
       "      <td>Star Wars: The Force Awakens</td>\n",
       "      <td>Harrison Ford|Mark Hamill|Carrie Fisher|Adam D...</td>\n",
       "      <td>http://www.starwars.com/films/star-wars-episod...</td>\n",
       "      <td>J.J. Abrams</td>\n",
       "      <td>Every generation has a story.</td>\n",
       "      <td>...</td>\n",
       "      <td>Thirty years after defeating the Galactic Empi...</td>\n",
       "      <td>136</td>\n",
       "      <td>Action|Adventure|Science Fiction|Fantasy</td>\n",
       "      <td>Lucasfilm|Truenorth Productions|Bad Robot</td>\n",
       "      <td>12/15/15</td>\n",
       "      <td>5292</td>\n",
       "      <td>7.5</td>\n",
       "      <td>2015</td>\n",
       "      <td>1.839999e+08</td>\n",
       "      <td>1.902723e+09</td>\n",
       "    </tr>\n",
       "    <tr>\n",
       "      <th>4</th>\n",
       "      <td>168259</td>\n",
       "      <td>tt2820852</td>\n",
       "      <td>9.335014</td>\n",
       "      <td>190000000</td>\n",
       "      <td>1506249360</td>\n",
       "      <td>Furious 7</td>\n",
       "      <td>Vin Diesel|Paul Walker|Jason Statham|Michelle ...</td>\n",
       "      <td>http://www.furious7.com/</td>\n",
       "      <td>James Wan</td>\n",
       "      <td>Vengeance Hits Home</td>\n",
       "      <td>...</td>\n",
       "      <td>Deckard Shaw seeks revenge against Dominic Tor...</td>\n",
       "      <td>137</td>\n",
       "      <td>Action|Crime|Thriller</td>\n",
       "      <td>Universal Pictures|Original Film|Media Rights ...</td>\n",
       "      <td>4/1/15</td>\n",
       "      <td>2947</td>\n",
       "      <td>7.3</td>\n",
       "      <td>2015</td>\n",
       "      <td>1.747999e+08</td>\n",
       "      <td>1.385749e+09</td>\n",
       "    </tr>\n",
       "  </tbody>\n",
       "</table>\n",
       "<p>5 rows × 21 columns</p>\n",
       "</div>"
      ],
      "text/plain": [
       "       id    imdb_id  popularity     budget     revenue  \\\n",
       "0  135397  tt0369610   32.985763  150000000  1513528810   \n",
       "1   76341  tt1392190   28.419936  150000000   378436354   \n",
       "2  262500  tt2908446   13.112507  110000000   295238201   \n",
       "3  140607  tt2488496   11.173104  200000000  2068178225   \n",
       "4  168259  tt2820852    9.335014  190000000  1506249360   \n",
       "\n",
       "                 original_title  \\\n",
       "0                Jurassic World   \n",
       "1            Mad Max: Fury Road   \n",
       "2                     Insurgent   \n",
       "3  Star Wars: The Force Awakens   \n",
       "4                     Furious 7   \n",
       "\n",
       "                                                cast  \\\n",
       "0  Chris Pratt|Bryce Dallas Howard|Irrfan Khan|Vi...   \n",
       "1  Tom Hardy|Charlize Theron|Hugh Keays-Byrne|Nic...   \n",
       "2  Shailene Woodley|Theo James|Kate Winslet|Ansel...   \n",
       "3  Harrison Ford|Mark Hamill|Carrie Fisher|Adam D...   \n",
       "4  Vin Diesel|Paul Walker|Jason Statham|Michelle ...   \n",
       "\n",
       "                                            homepage          director  \\\n",
       "0                      http://www.jurassicworld.com/   Colin Trevorrow   \n",
       "1                        http://www.madmaxmovie.com/     George Miller   \n",
       "2     http://www.thedivergentseries.movie/#insurgent  Robert Schwentke   \n",
       "3  http://www.starwars.com/films/star-wars-episod...       J.J. Abrams   \n",
       "4                           http://www.furious7.com/         James Wan   \n",
       "\n",
       "                         tagline  ...  \\\n",
       "0              The park is open.  ...   \n",
       "1             What a Lovely Day.  ...   \n",
       "2     One Choice Can Destroy You  ...   \n",
       "3  Every generation has a story.  ...   \n",
       "4            Vengeance Hits Home  ...   \n",
       "\n",
       "                                            overview runtime  \\\n",
       "0  Twenty-two years after the events of Jurassic ...     124   \n",
       "1  An apocalyptic story set in the furthest reach...     120   \n",
       "2  Beatrice Prior must confront her inner demons ...     119   \n",
       "3  Thirty years after defeating the Galactic Empi...     136   \n",
       "4  Deckard Shaw seeks revenge against Dominic Tor...     137   \n",
       "\n",
       "                                      genres  \\\n",
       "0  Action|Adventure|Science Fiction|Thriller   \n",
       "1  Action|Adventure|Science Fiction|Thriller   \n",
       "2         Adventure|Science Fiction|Thriller   \n",
       "3   Action|Adventure|Science Fiction|Fantasy   \n",
       "4                      Action|Crime|Thriller   \n",
       "\n",
       "                                production_companies release_date vote_count  \\\n",
       "0  Universal Studios|Amblin Entertainment|Legenda...       6/9/15       5562   \n",
       "1  Village Roadshow Pictures|Kennedy Miller Produ...      5/13/15       6185   \n",
       "2  Summit Entertainment|Mandeville Films|Red Wago...      3/18/15       2480   \n",
       "3          Lucasfilm|Truenorth Productions|Bad Robot     12/15/15       5292   \n",
       "4  Universal Pictures|Original Film|Media Rights ...       4/1/15       2947   \n",
       "\n",
       "   vote_average  release_year    budget_adj   revenue_adj  \n",
       "0           6.5          2015  1.379999e+08  1.392446e+09  \n",
       "1           7.1          2015  1.379999e+08  3.481613e+08  \n",
       "2           6.3          2015  1.012000e+08  2.716190e+08  \n",
       "3           7.5          2015  1.839999e+08  1.902723e+09  \n",
       "4           7.3          2015  1.747999e+08  1.385749e+09  \n",
       "\n",
       "[5 rows x 21 columns]"
      ]
     },
     "execution_count": 90,
     "metadata": {},
     "output_type": "execute_result"
    }
   ],
   "source": [
    "# import the dataset and view the first 5 samples\n",
    "\n",
    "df = pd.read_csv('tmdb-movies.csv')\n",
    "df.head()"
   ]
  },
  {
   "cell_type": "code",
   "execution_count": 91,
   "id": "a1893747",
   "metadata": {},
   "outputs": [
    {
     "data": {
      "text/plain": [
       "(10866, 21)"
      ]
     },
     "execution_count": 91,
     "metadata": {},
     "output_type": "execute_result"
    }
   ],
   "source": [
    "# obtain the size of the dataset\n",
    "df.shape"
   ]
  },
  {
   "cell_type": "code",
   "execution_count": 92,
   "id": "24af6ec4",
   "metadata": {},
   "outputs": [
    {
     "name": "stdout",
     "output_type": "stream",
     "text": [
      "<class 'pandas.core.frame.DataFrame'>\n",
      "RangeIndex: 10866 entries, 0 to 10865\n",
      "Data columns (total 21 columns):\n",
      " #   Column                Non-Null Count  Dtype  \n",
      "---  ------                --------------  -----  \n",
      " 0   id                    10866 non-null  int64  \n",
      " 1   imdb_id               10856 non-null  object \n",
      " 2   popularity            10866 non-null  float64\n",
      " 3   budget                10866 non-null  int64  \n",
      " 4   revenue               10866 non-null  int64  \n",
      " 5   original_title        10866 non-null  object \n",
      " 6   cast                  10790 non-null  object \n",
      " 7   homepage              2936 non-null   object \n",
      " 8   director              10822 non-null  object \n",
      " 9   tagline               8042 non-null   object \n",
      " 10  keywords              9373 non-null   object \n",
      " 11  overview              10862 non-null  object \n",
      " 12  runtime               10866 non-null  int64  \n",
      " 13  genres                10843 non-null  object \n",
      " 14  production_companies  9836 non-null   object \n",
      " 15  release_date          10866 non-null  object \n",
      " 16  vote_count            10866 non-null  int64  \n",
      " 17  vote_average          10866 non-null  float64\n",
      " 18  release_year          10866 non-null  int64  \n",
      " 19  budget_adj            10866 non-null  float64\n",
      " 20  revenue_adj           10866 non-null  float64\n",
      "dtypes: float64(4), int64(6), object(11)\n",
      "memory usage: 1.7+ MB\n"
     ]
    }
   ],
   "source": [
    "# insight into the dataset\n",
    "df.info()"
   ]
  },
  {
   "cell_type": "code",
   "execution_count": 93,
   "id": "a54682cf",
   "metadata": {},
   "outputs": [
    {
     "data": {
      "text/plain": [
       "Woody Allen                 45\n",
       "Clint Eastwood              34\n",
       "Martin Scorsese             29\n",
       "Steven Spielberg            29\n",
       "Ridley Scott                23\n",
       "                            ..\n",
       "Jeffrey Porter               1\n",
       "Larry Shaw                   1\n",
       "Bill Pohlad                  1\n",
       "Andy Hamilton|Guy Jenkin     1\n",
       "Harold P. Warren             1\n",
       "Name: director, Length: 5067, dtype: int64"
      ]
     },
     "execution_count": 93,
     "metadata": {},
     "output_type": "execute_result"
    }
   ],
   "source": [
    "# did some directors administered more than 1 movie?\n",
    "df['director'].value_counts()"
   ]
  },
  {
   "cell_type": "markdown",
   "id": "c3c0d2f4",
   "metadata": {},
   "source": [
    "<a id='wrangling'></a>\n",
    "## Data Wrangling\n",
    "- Here, I cleaned the dataset and prepared it for analysis\n",
    "- I did the following\n",
    " - Change datatypes to provide a seamless flow of analysis, e.g., date to datetime, etc.\n",
    " - Specified the index columns\n",
    " - Remove duplicates\n",
    " - Remove rows with missing values\n",
    " - Remove irrelevant columns"
   ]
  },
  {
   "cell_type": "code",
   "execution_count": 94,
   "id": "0e566663",
   "metadata": {},
   "outputs": [
    {
     "data": {
      "text/html": [
       "<div>\n",
       "<style scoped>\n",
       "    .dataframe tbody tr th:only-of-type {\n",
       "        vertical-align: middle;\n",
       "    }\n",
       "\n",
       "    .dataframe tbody tr th {\n",
       "        vertical-align: top;\n",
       "    }\n",
       "\n",
       "    .dataframe thead th {\n",
       "        text-align: right;\n",
       "    }\n",
       "</style>\n",
       "<table border=\"1\" class=\"dataframe\">\n",
       "  <thead>\n",
       "    <tr style=\"text-align: right;\">\n",
       "      <th></th>\n",
       "      <th>id</th>\n",
       "      <th>popularity</th>\n",
       "      <th>budget</th>\n",
       "      <th>revenue</th>\n",
       "      <th>runtime</th>\n",
       "      <th>vote_count</th>\n",
       "      <th>vote_average</th>\n",
       "      <th>release_year</th>\n",
       "      <th>budget_adj</th>\n",
       "      <th>revenue_adj</th>\n",
       "    </tr>\n",
       "  </thead>\n",
       "  <tbody>\n",
       "    <tr>\n",
       "      <th>count</th>\n",
       "      <td>10866.000000</td>\n",
       "      <td>10866.000000</td>\n",
       "      <td>1.086600e+04</td>\n",
       "      <td>1.086600e+04</td>\n",
       "      <td>10866.000000</td>\n",
       "      <td>10866.000000</td>\n",
       "      <td>10866.000000</td>\n",
       "      <td>10866.000000</td>\n",
       "      <td>1.086600e+04</td>\n",
       "      <td>1.086600e+04</td>\n",
       "    </tr>\n",
       "    <tr>\n",
       "      <th>mean</th>\n",
       "      <td>66064.177434</td>\n",
       "      <td>0.646441</td>\n",
       "      <td>1.462570e+07</td>\n",
       "      <td>3.982332e+07</td>\n",
       "      <td>102.070863</td>\n",
       "      <td>217.389748</td>\n",
       "      <td>5.974922</td>\n",
       "      <td>2001.322658</td>\n",
       "      <td>1.755104e+07</td>\n",
       "      <td>5.136436e+07</td>\n",
       "    </tr>\n",
       "    <tr>\n",
       "      <th>std</th>\n",
       "      <td>92130.136561</td>\n",
       "      <td>1.000185</td>\n",
       "      <td>3.091321e+07</td>\n",
       "      <td>1.170035e+08</td>\n",
       "      <td>31.381405</td>\n",
       "      <td>575.619058</td>\n",
       "      <td>0.935142</td>\n",
       "      <td>12.812941</td>\n",
       "      <td>3.430616e+07</td>\n",
       "      <td>1.446325e+08</td>\n",
       "    </tr>\n",
       "    <tr>\n",
       "      <th>min</th>\n",
       "      <td>5.000000</td>\n",
       "      <td>0.000065</td>\n",
       "      <td>0.000000e+00</td>\n",
       "      <td>0.000000e+00</td>\n",
       "      <td>0.000000</td>\n",
       "      <td>10.000000</td>\n",
       "      <td>1.500000</td>\n",
       "      <td>1960.000000</td>\n",
       "      <td>0.000000e+00</td>\n",
       "      <td>0.000000e+00</td>\n",
       "    </tr>\n",
       "    <tr>\n",
       "      <th>25%</th>\n",
       "      <td>10596.250000</td>\n",
       "      <td>0.207583</td>\n",
       "      <td>0.000000e+00</td>\n",
       "      <td>0.000000e+00</td>\n",
       "      <td>90.000000</td>\n",
       "      <td>17.000000</td>\n",
       "      <td>5.400000</td>\n",
       "      <td>1995.000000</td>\n",
       "      <td>0.000000e+00</td>\n",
       "      <td>0.000000e+00</td>\n",
       "    </tr>\n",
       "    <tr>\n",
       "      <th>50%</th>\n",
       "      <td>20669.000000</td>\n",
       "      <td>0.383856</td>\n",
       "      <td>0.000000e+00</td>\n",
       "      <td>0.000000e+00</td>\n",
       "      <td>99.000000</td>\n",
       "      <td>38.000000</td>\n",
       "      <td>6.000000</td>\n",
       "      <td>2006.000000</td>\n",
       "      <td>0.000000e+00</td>\n",
       "      <td>0.000000e+00</td>\n",
       "    </tr>\n",
       "    <tr>\n",
       "      <th>75%</th>\n",
       "      <td>75610.000000</td>\n",
       "      <td>0.713817</td>\n",
       "      <td>1.500000e+07</td>\n",
       "      <td>2.400000e+07</td>\n",
       "      <td>111.000000</td>\n",
       "      <td>145.750000</td>\n",
       "      <td>6.600000</td>\n",
       "      <td>2011.000000</td>\n",
       "      <td>2.085325e+07</td>\n",
       "      <td>3.369710e+07</td>\n",
       "    </tr>\n",
       "    <tr>\n",
       "      <th>max</th>\n",
       "      <td>417859.000000</td>\n",
       "      <td>32.985763</td>\n",
       "      <td>4.250000e+08</td>\n",
       "      <td>2.781506e+09</td>\n",
       "      <td>900.000000</td>\n",
       "      <td>9767.000000</td>\n",
       "      <td>9.200000</td>\n",
       "      <td>2015.000000</td>\n",
       "      <td>4.250000e+08</td>\n",
       "      <td>2.827124e+09</td>\n",
       "    </tr>\n",
       "  </tbody>\n",
       "</table>\n",
       "</div>"
      ],
      "text/plain": [
       "                  id    popularity        budget       revenue       runtime  \\\n",
       "count   10866.000000  10866.000000  1.086600e+04  1.086600e+04  10866.000000   \n",
       "mean    66064.177434      0.646441  1.462570e+07  3.982332e+07    102.070863   \n",
       "std     92130.136561      1.000185  3.091321e+07  1.170035e+08     31.381405   \n",
       "min         5.000000      0.000065  0.000000e+00  0.000000e+00      0.000000   \n",
       "25%     10596.250000      0.207583  0.000000e+00  0.000000e+00     90.000000   \n",
       "50%     20669.000000      0.383856  0.000000e+00  0.000000e+00     99.000000   \n",
       "75%     75610.000000      0.713817  1.500000e+07  2.400000e+07    111.000000   \n",
       "max    417859.000000     32.985763  4.250000e+08  2.781506e+09    900.000000   \n",
       "\n",
       "         vote_count  vote_average  release_year    budget_adj   revenue_adj  \n",
       "count  10866.000000  10866.000000  10866.000000  1.086600e+04  1.086600e+04  \n",
       "mean     217.389748      5.974922   2001.322658  1.755104e+07  5.136436e+07  \n",
       "std      575.619058      0.935142     12.812941  3.430616e+07  1.446325e+08  \n",
       "min       10.000000      1.500000   1960.000000  0.000000e+00  0.000000e+00  \n",
       "25%       17.000000      5.400000   1995.000000  0.000000e+00  0.000000e+00  \n",
       "50%       38.000000      6.000000   2006.000000  0.000000e+00  0.000000e+00  \n",
       "75%      145.750000      6.600000   2011.000000  2.085325e+07  3.369710e+07  \n",
       "max     9767.000000      9.200000   2015.000000  4.250000e+08  2.827124e+09  "
      ]
     },
     "execution_count": 94,
     "metadata": {},
     "output_type": "execute_result"
    }
   ],
   "source": [
    "# check stats of the dataset\n",
    "df.describe()"
   ]
  },
  {
   "cell_type": "code",
   "execution_count": 95,
   "id": "6a841492",
   "metadata": {},
   "outputs": [],
   "source": [
    "# the 'id' and 'release_year' should not be included in mathematical computations\n",
    "df['id'] = df['id'].astype('str')\n",
    "df['release_year'] = df['release_year'].astype('str')"
   ]
  },
  {
   "cell_type": "code",
   "execution_count": 96,
   "id": "0b36f901",
   "metadata": {},
   "outputs": [
    {
     "data": {
      "text/plain": [
       "id                       object\n",
       "imdb_id                  object\n",
       "popularity              float64\n",
       "budget                    int64\n",
       "revenue                   int64\n",
       "original_title           object\n",
       "cast                     object\n",
       "homepage                 object\n",
       "director                 object\n",
       "tagline                  object\n",
       "keywords                 object\n",
       "overview                 object\n",
       "runtime                   int64\n",
       "genres                   object\n",
       "production_companies     object\n",
       "release_date             object\n",
       "vote_count                int64\n",
       "vote_average            float64\n",
       "release_year             object\n",
       "budget_adj              float64\n",
       "revenue_adj             float64\n",
       "dtype: object"
      ]
     },
     "execution_count": 96,
     "metadata": {},
     "output_type": "execute_result"
    }
   ],
   "source": [
    "# confirm the changes\n",
    "df.dtypes"
   ]
  },
  {
   "cell_type": "code",
   "execution_count": 97,
   "id": "446d8bee",
   "metadata": {},
   "outputs": [],
   "source": [
    "# save the current dataset for future use\n",
    "df.to_csv('moviedata.csv', index = False)"
   ]
  },
  {
   "cell_type": "code",
   "execution_count": 98,
   "id": "575acbae",
   "metadata": {},
   "outputs": [
    {
     "data": {
      "text/html": [
       "<div>\n",
       "<style scoped>\n",
       "    .dataframe tbody tr th:only-of-type {\n",
       "        vertical-align: middle;\n",
       "    }\n",
       "\n",
       "    .dataframe tbody tr th {\n",
       "        vertical-align: top;\n",
       "    }\n",
       "\n",
       "    .dataframe thead th {\n",
       "        text-align: right;\n",
       "    }\n",
       "</style>\n",
       "<table border=\"1\" class=\"dataframe\">\n",
       "  <thead>\n",
       "    <tr style=\"text-align: right;\">\n",
       "      <th></th>\n",
       "      <th>id</th>\n",
       "      <th>imdb_id</th>\n",
       "      <th>popularity</th>\n",
       "      <th>budget</th>\n",
       "      <th>revenue</th>\n",
       "      <th>original_title</th>\n",
       "      <th>cast</th>\n",
       "      <th>homepage</th>\n",
       "      <th>director</th>\n",
       "      <th>tagline</th>\n",
       "      <th>...</th>\n",
       "      <th>overview</th>\n",
       "      <th>runtime</th>\n",
       "      <th>genres</th>\n",
       "      <th>production_companies</th>\n",
       "      <th>release_date</th>\n",
       "      <th>vote_count</th>\n",
       "      <th>vote_average</th>\n",
       "      <th>release_year</th>\n",
       "      <th>budget_adj</th>\n",
       "      <th>revenue_adj</th>\n",
       "    </tr>\n",
       "  </thead>\n",
       "  <tbody>\n",
       "    <tr>\n",
       "      <th>0</th>\n",
       "      <td>135397</td>\n",
       "      <td>tt0369610</td>\n",
       "      <td>32.985763</td>\n",
       "      <td>150000000</td>\n",
       "      <td>1513528810</td>\n",
       "      <td>Jurassic World</td>\n",
       "      <td>Chris Pratt|Bryce Dallas Howard|Irrfan Khan|Vi...</td>\n",
       "      <td>http://www.jurassicworld.com/</td>\n",
       "      <td>Colin Trevorrow</td>\n",
       "      <td>The park is open.</td>\n",
       "      <td>...</td>\n",
       "      <td>Twenty-two years after the events of Jurassic ...</td>\n",
       "      <td>124</td>\n",
       "      <td>Action|Adventure|Science Fiction|Thriller</td>\n",
       "      <td>Universal Studios|Amblin Entertainment|Legenda...</td>\n",
       "      <td>6/9/15</td>\n",
       "      <td>5562</td>\n",
       "      <td>6.5</td>\n",
       "      <td>2015</td>\n",
       "      <td>1.379999e+08</td>\n",
       "      <td>1.392446e+09</td>\n",
       "    </tr>\n",
       "  </tbody>\n",
       "</table>\n",
       "<p>1 rows × 21 columns</p>\n",
       "</div>"
      ],
      "text/plain": [
       "       id    imdb_id  popularity     budget     revenue  original_title  \\\n",
       "0  135397  tt0369610   32.985763  150000000  1513528810  Jurassic World   \n",
       "\n",
       "                                                cast  \\\n",
       "0  Chris Pratt|Bryce Dallas Howard|Irrfan Khan|Vi...   \n",
       "\n",
       "                        homepage         director            tagline  ...  \\\n",
       "0  http://www.jurassicworld.com/  Colin Trevorrow  The park is open.  ...   \n",
       "\n",
       "                                            overview runtime  \\\n",
       "0  Twenty-two years after the events of Jurassic ...     124   \n",
       "\n",
       "                                      genres  \\\n",
       "0  Action|Adventure|Science Fiction|Thriller   \n",
       "\n",
       "                                production_companies release_date vote_count  \\\n",
       "0  Universal Studios|Amblin Entertainment|Legenda...       6/9/15       5562   \n",
       "\n",
       "   vote_average  release_year    budget_adj   revenue_adj  \n",
       "0           6.5          2015  1.379999e+08  1.392446e+09  \n",
       "\n",
       "[1 rows x 21 columns]"
      ]
     },
     "execution_count": 98,
     "metadata": {},
     "output_type": "execute_result"
    }
   ],
   "source": [
    "# load the new dataset\n",
    "df = pd.read_csv('moviedata.csv')\n",
    "df.head(1)"
   ]
  },
  {
   "cell_type": "code",
   "execution_count": 99,
   "id": "537914b3",
   "metadata": {},
   "outputs": [
    {
     "data": {
      "text/html": [
       "<div>\n",
       "<style scoped>\n",
       "    .dataframe tbody tr th:only-of-type {\n",
       "        vertical-align: middle;\n",
       "    }\n",
       "\n",
       "    .dataframe tbody tr th {\n",
       "        vertical-align: top;\n",
       "    }\n",
       "\n",
       "    .dataframe thead th {\n",
       "        text-align: right;\n",
       "    }\n",
       "</style>\n",
       "<table border=\"1\" class=\"dataframe\">\n",
       "  <thead>\n",
       "    <tr style=\"text-align: right;\">\n",
       "      <th></th>\n",
       "      <th></th>\n",
       "      <th>popularity</th>\n",
       "      <th>budget</th>\n",
       "      <th>revenue</th>\n",
       "      <th>original_title</th>\n",
       "      <th>cast</th>\n",
       "      <th>homepage</th>\n",
       "      <th>director</th>\n",
       "      <th>tagline</th>\n",
       "      <th>keywords</th>\n",
       "      <th>overview</th>\n",
       "      <th>runtime</th>\n",
       "      <th>genres</th>\n",
       "      <th>production_companies</th>\n",
       "      <th>release_date</th>\n",
       "      <th>vote_count</th>\n",
       "      <th>vote_average</th>\n",
       "      <th>release_year</th>\n",
       "      <th>budget_adj</th>\n",
       "      <th>revenue_adj</th>\n",
       "    </tr>\n",
       "    <tr>\n",
       "      <th>id</th>\n",
       "      <th>imdb_id</th>\n",
       "      <th></th>\n",
       "      <th></th>\n",
       "      <th></th>\n",
       "      <th></th>\n",
       "      <th></th>\n",
       "      <th></th>\n",
       "      <th></th>\n",
       "      <th></th>\n",
       "      <th></th>\n",
       "      <th></th>\n",
       "      <th></th>\n",
       "      <th></th>\n",
       "      <th></th>\n",
       "      <th></th>\n",
       "      <th></th>\n",
       "      <th></th>\n",
       "      <th></th>\n",
       "      <th></th>\n",
       "      <th></th>\n",
       "    </tr>\n",
       "  </thead>\n",
       "  <tbody>\n",
       "    <tr>\n",
       "      <th>135397</th>\n",
       "      <th>tt0369610</th>\n",
       "      <td>32.985763</td>\n",
       "      <td>150000000</td>\n",
       "      <td>1513528810</td>\n",
       "      <td>Jurassic World</td>\n",
       "      <td>Chris Pratt|Bryce Dallas Howard|Irrfan Khan|Vi...</td>\n",
       "      <td>http://www.jurassicworld.com/</td>\n",
       "      <td>Colin Trevorrow</td>\n",
       "      <td>The park is open.</td>\n",
       "      <td>monster|dna|tyrannosaurus rex|velociraptor|island</td>\n",
       "      <td>Twenty-two years after the events of Jurassic ...</td>\n",
       "      <td>124</td>\n",
       "      <td>Action|Adventure|Science Fiction|Thriller</td>\n",
       "      <td>Universal Studios|Amblin Entertainment|Legenda...</td>\n",
       "      <td>6/9/15</td>\n",
       "      <td>5562</td>\n",
       "      <td>6.5</td>\n",
       "      <td>2015</td>\n",
       "      <td>1.379999e+08</td>\n",
       "      <td>1.392446e+09</td>\n",
       "    </tr>\n",
       "    <tr>\n",
       "      <th>76341</th>\n",
       "      <th>tt1392190</th>\n",
       "      <td>28.419936</td>\n",
       "      <td>150000000</td>\n",
       "      <td>378436354</td>\n",
       "      <td>Mad Max: Fury Road</td>\n",
       "      <td>Tom Hardy|Charlize Theron|Hugh Keays-Byrne|Nic...</td>\n",
       "      <td>http://www.madmaxmovie.com/</td>\n",
       "      <td>George Miller</td>\n",
       "      <td>What a Lovely Day.</td>\n",
       "      <td>future|chase|post-apocalyptic|dystopia|australia</td>\n",
       "      <td>An apocalyptic story set in the furthest reach...</td>\n",
       "      <td>120</td>\n",
       "      <td>Action|Adventure|Science Fiction|Thriller</td>\n",
       "      <td>Village Roadshow Pictures|Kennedy Miller Produ...</td>\n",
       "      <td>5/13/15</td>\n",
       "      <td>6185</td>\n",
       "      <td>7.1</td>\n",
       "      <td>2015</td>\n",
       "      <td>1.379999e+08</td>\n",
       "      <td>3.481613e+08</td>\n",
       "    </tr>\n",
       "    <tr>\n",
       "      <th>262500</th>\n",
       "      <th>tt2908446</th>\n",
       "      <td>13.112507</td>\n",
       "      <td>110000000</td>\n",
       "      <td>295238201</td>\n",
       "      <td>Insurgent</td>\n",
       "      <td>Shailene Woodley|Theo James|Kate Winslet|Ansel...</td>\n",
       "      <td>http://www.thedivergentseries.movie/#insurgent</td>\n",
       "      <td>Robert Schwentke</td>\n",
       "      <td>One Choice Can Destroy You</td>\n",
       "      <td>based on novel|revolution|dystopia|sequel|dyst...</td>\n",
       "      <td>Beatrice Prior must confront her inner demons ...</td>\n",
       "      <td>119</td>\n",
       "      <td>Adventure|Science Fiction|Thriller</td>\n",
       "      <td>Summit Entertainment|Mandeville Films|Red Wago...</td>\n",
       "      <td>3/18/15</td>\n",
       "      <td>2480</td>\n",
       "      <td>6.3</td>\n",
       "      <td>2015</td>\n",
       "      <td>1.012000e+08</td>\n",
       "      <td>2.716190e+08</td>\n",
       "    </tr>\n",
       "    <tr>\n",
       "      <th>140607</th>\n",
       "      <th>tt2488496</th>\n",
       "      <td>11.173104</td>\n",
       "      <td>200000000</td>\n",
       "      <td>2068178225</td>\n",
       "      <td>Star Wars: The Force Awakens</td>\n",
       "      <td>Harrison Ford|Mark Hamill|Carrie Fisher|Adam D...</td>\n",
       "      <td>http://www.starwars.com/films/star-wars-episod...</td>\n",
       "      <td>J.J. Abrams</td>\n",
       "      <td>Every generation has a story.</td>\n",
       "      <td>android|spaceship|jedi|space opera|3d</td>\n",
       "      <td>Thirty years after defeating the Galactic Empi...</td>\n",
       "      <td>136</td>\n",
       "      <td>Action|Adventure|Science Fiction|Fantasy</td>\n",
       "      <td>Lucasfilm|Truenorth Productions|Bad Robot</td>\n",
       "      <td>12/15/15</td>\n",
       "      <td>5292</td>\n",
       "      <td>7.5</td>\n",
       "      <td>2015</td>\n",
       "      <td>1.839999e+08</td>\n",
       "      <td>1.902723e+09</td>\n",
       "    </tr>\n",
       "    <tr>\n",
       "      <th>168259</th>\n",
       "      <th>tt2820852</th>\n",
       "      <td>9.335014</td>\n",
       "      <td>190000000</td>\n",
       "      <td>1506249360</td>\n",
       "      <td>Furious 7</td>\n",
       "      <td>Vin Diesel|Paul Walker|Jason Statham|Michelle ...</td>\n",
       "      <td>http://www.furious7.com/</td>\n",
       "      <td>James Wan</td>\n",
       "      <td>Vengeance Hits Home</td>\n",
       "      <td>car race|speed|revenge|suspense|car</td>\n",
       "      <td>Deckard Shaw seeks revenge against Dominic Tor...</td>\n",
       "      <td>137</td>\n",
       "      <td>Action|Crime|Thriller</td>\n",
       "      <td>Universal Pictures|Original Film|Media Rights ...</td>\n",
       "      <td>4/1/15</td>\n",
       "      <td>2947</td>\n",
       "      <td>7.3</td>\n",
       "      <td>2015</td>\n",
       "      <td>1.747999e+08</td>\n",
       "      <td>1.385749e+09</td>\n",
       "    </tr>\n",
       "  </tbody>\n",
       "</table>\n",
       "</div>"
      ],
      "text/plain": [
       "                  popularity     budget     revenue  \\\n",
       "id     imdb_id                                        \n",
       "135397 tt0369610   32.985763  150000000  1513528810   \n",
       "76341  tt1392190   28.419936  150000000   378436354   \n",
       "262500 tt2908446   13.112507  110000000   295238201   \n",
       "140607 tt2488496   11.173104  200000000  2068178225   \n",
       "168259 tt2820852    9.335014  190000000  1506249360   \n",
       "\n",
       "                                original_title  \\\n",
       "id     imdb_id                                   \n",
       "135397 tt0369610                Jurassic World   \n",
       "76341  tt1392190            Mad Max: Fury Road   \n",
       "262500 tt2908446                     Insurgent   \n",
       "140607 tt2488496  Star Wars: The Force Awakens   \n",
       "168259 tt2820852                     Furious 7   \n",
       "\n",
       "                                                               cast  \\\n",
       "id     imdb_id                                                        \n",
       "135397 tt0369610  Chris Pratt|Bryce Dallas Howard|Irrfan Khan|Vi...   \n",
       "76341  tt1392190  Tom Hardy|Charlize Theron|Hugh Keays-Byrne|Nic...   \n",
       "262500 tt2908446  Shailene Woodley|Theo James|Kate Winslet|Ansel...   \n",
       "140607 tt2488496  Harrison Ford|Mark Hamill|Carrie Fisher|Adam D...   \n",
       "168259 tt2820852  Vin Diesel|Paul Walker|Jason Statham|Michelle ...   \n",
       "\n",
       "                                                           homepage  \\\n",
       "id     imdb_id                                                        \n",
       "135397 tt0369610                      http://www.jurassicworld.com/   \n",
       "76341  tt1392190                        http://www.madmaxmovie.com/   \n",
       "262500 tt2908446     http://www.thedivergentseries.movie/#insurgent   \n",
       "140607 tt2488496  http://www.starwars.com/films/star-wars-episod...   \n",
       "168259 tt2820852                           http://www.furious7.com/   \n",
       "\n",
       "                          director                        tagline  \\\n",
       "id     imdb_id                                                      \n",
       "135397 tt0369610   Colin Trevorrow              The park is open.   \n",
       "76341  tt1392190     George Miller             What a Lovely Day.   \n",
       "262500 tt2908446  Robert Schwentke     One Choice Can Destroy You   \n",
       "140607 tt2488496       J.J. Abrams  Every generation has a story.   \n",
       "168259 tt2820852         James Wan            Vengeance Hits Home   \n",
       "\n",
       "                                                           keywords  \\\n",
       "id     imdb_id                                                        \n",
       "135397 tt0369610  monster|dna|tyrannosaurus rex|velociraptor|island   \n",
       "76341  tt1392190   future|chase|post-apocalyptic|dystopia|australia   \n",
       "262500 tt2908446  based on novel|revolution|dystopia|sequel|dyst...   \n",
       "140607 tt2488496              android|spaceship|jedi|space opera|3d   \n",
       "168259 tt2820852                car race|speed|revenge|suspense|car   \n",
       "\n",
       "                                                           overview  runtime  \\\n",
       "id     imdb_id                                                                 \n",
       "135397 tt0369610  Twenty-two years after the events of Jurassic ...      124   \n",
       "76341  tt1392190  An apocalyptic story set in the furthest reach...      120   \n",
       "262500 tt2908446  Beatrice Prior must confront her inner demons ...      119   \n",
       "140607 tt2488496  Thirty years after defeating the Galactic Empi...      136   \n",
       "168259 tt2820852  Deckard Shaw seeks revenge against Dominic Tor...      137   \n",
       "\n",
       "                                                     genres  \\\n",
       "id     imdb_id                                                \n",
       "135397 tt0369610  Action|Adventure|Science Fiction|Thriller   \n",
       "76341  tt1392190  Action|Adventure|Science Fiction|Thriller   \n",
       "262500 tt2908446         Adventure|Science Fiction|Thriller   \n",
       "140607 tt2488496   Action|Adventure|Science Fiction|Fantasy   \n",
       "168259 tt2820852                      Action|Crime|Thriller   \n",
       "\n",
       "                                               production_companies  \\\n",
       "id     imdb_id                                                        \n",
       "135397 tt0369610  Universal Studios|Amblin Entertainment|Legenda...   \n",
       "76341  tt1392190  Village Roadshow Pictures|Kennedy Miller Produ...   \n",
       "262500 tt2908446  Summit Entertainment|Mandeville Films|Red Wago...   \n",
       "140607 tt2488496          Lucasfilm|Truenorth Productions|Bad Robot   \n",
       "168259 tt2820852  Universal Pictures|Original Film|Media Rights ...   \n",
       "\n",
       "                 release_date  vote_count  vote_average  release_year  \\\n",
       "id     imdb_id                                                          \n",
       "135397 tt0369610       6/9/15        5562           6.5          2015   \n",
       "76341  tt1392190      5/13/15        6185           7.1          2015   \n",
       "262500 tt2908446      3/18/15        2480           6.3          2015   \n",
       "140607 tt2488496     12/15/15        5292           7.5          2015   \n",
       "168259 tt2820852       4/1/15        2947           7.3          2015   \n",
       "\n",
       "                    budget_adj   revenue_adj  \n",
       "id     imdb_id                                \n",
       "135397 tt0369610  1.379999e+08  1.392446e+09  \n",
       "76341  tt1392190  1.379999e+08  3.481613e+08  \n",
       "262500 tt2908446  1.012000e+08  2.716190e+08  \n",
       "140607 tt2488496  1.839999e+08  1.902723e+09  \n",
       "168259 tt2820852  1.747999e+08  1.385749e+09  "
      ]
     },
     "execution_count": 99,
     "metadata": {},
     "output_type": "execute_result"
    }
   ],
   "source": [
    "# Both 'id' and 'imdb_id' are indexes\n",
    "df = pd.read_csv('moviedata.csv', index_col = ['id', 'imdb_id'])\n",
    "df.head()"
   ]
  },
  {
   "cell_type": "code",
   "execution_count": 100,
   "id": "dc960a15",
   "metadata": {},
   "outputs": [],
   "source": [
    "# drop irrevalent columns not useful for my analysis\n",
    "df.drop(columns = ['homepage', 'cast', 'overview', 'original_title', 'tagline',\n",
    "                   'production_companies', 'keywords'], inplace = True)"
   ]
  },
  {
   "cell_type": "code",
   "execution_count": 101,
   "id": "f49577cf",
   "metadata": {
    "scrolled": true
   },
   "outputs": [
    {
     "name": "stdout",
     "output_type": "stream",
     "text": [
      "<class 'pandas.core.frame.DataFrame'>\n",
      "MultiIndex: 10866 entries, (135397, 'tt0369610') to (22293, 'tt0060666')\n",
      "Data columns (total 12 columns):\n",
      " #   Column        Non-Null Count  Dtype  \n",
      "---  ------        --------------  -----  \n",
      " 0   popularity    10866 non-null  float64\n",
      " 1   budget        10866 non-null  int64  \n",
      " 2   revenue       10866 non-null  int64  \n",
      " 3   director      10822 non-null  object \n",
      " 4   runtime       10866 non-null  int64  \n",
      " 5   genres        10843 non-null  object \n",
      " 6   release_date  10866 non-null  object \n",
      " 7   vote_count    10866 non-null  int64  \n",
      " 8   vote_average  10866 non-null  float64\n",
      " 9   release_year  10866 non-null  int64  \n",
      " 10  budget_adj    10866 non-null  float64\n",
      " 11  revenue_adj   10866 non-null  float64\n",
      "dtypes: float64(4), int64(5), object(3)\n",
      "memory usage: 1.7+ MB\n"
     ]
    }
   ],
   "source": [
    "df.info()"
   ]
  },
  {
   "cell_type": "code",
   "execution_count": 102,
   "id": "ccc49279",
   "metadata": {},
   "outputs": [],
   "source": [
    "df['release_year'] = df['release_year'].astype('str')"
   ]
  },
  {
   "cell_type": "code",
   "execution_count": 103,
   "id": "08c1d80f",
   "metadata": {},
   "outputs": [
    {
     "data": {
      "text/plain": [
       "popularity       0\n",
       "budget           0\n",
       "revenue          0\n",
       "director        44\n",
       "runtime          0\n",
       "genres          23\n",
       "release_date     0\n",
       "vote_count       0\n",
       "vote_average     0\n",
       "release_year     0\n",
       "budget_adj       0\n",
       "revenue_adj      0\n",
       "dtype: int64"
      ]
     },
     "execution_count": 103,
     "metadata": {},
     "output_type": "execute_result"
    }
   ],
   "source": [
    "# check for null values\n",
    "df.isnull().sum()"
   ]
  },
  {
   "cell_type": "code",
   "execution_count": 104,
   "id": "8f3117c0",
   "metadata": {},
   "outputs": [],
   "source": [
    "# drop null values\n",
    "df.dropna(inplace = True)"
   ]
  },
  {
   "cell_type": "code",
   "execution_count": 105,
   "id": "975ec78a",
   "metadata": {},
   "outputs": [
    {
     "data": {
      "text/plain": [
       "popularity      0\n",
       "budget          0\n",
       "revenue         0\n",
       "director        0\n",
       "runtime         0\n",
       "genres          0\n",
       "release_date    0\n",
       "vote_count      0\n",
       "vote_average    0\n",
       "release_year    0\n",
       "budget_adj      0\n",
       "revenue_adj     0\n",
       "dtype: int64"
      ]
     },
     "execution_count": 105,
     "metadata": {},
     "output_type": "execute_result"
    }
   ],
   "source": [
    "# confirm that all null values are gone\n",
    "df.isnull().sum()"
   ]
  },
  {
   "cell_type": "code",
   "execution_count": 106,
   "id": "96ca38c0",
   "metadata": {},
   "outputs": [
    {
     "data": {
      "text/plain": [
       "1"
      ]
     },
     "execution_count": 106,
     "metadata": {},
     "output_type": "execute_result"
    }
   ],
   "source": [
    "# number of duplicates\n",
    "sum(df.duplicated())"
   ]
  },
  {
   "cell_type": "code",
   "execution_count": 107,
   "id": "e6ac0796",
   "metadata": {},
   "outputs": [],
   "source": [
    "# drop duplicates\n",
    "df.drop_duplicates(inplace = True)"
   ]
  },
  {
   "cell_type": "code",
   "execution_count": 108,
   "id": "68c5766d",
   "metadata": {},
   "outputs": [
    {
     "data": {
      "text/plain": [
       "0"
      ]
     },
     "execution_count": 108,
     "metadata": {},
     "output_type": "execute_result"
    }
   ],
   "source": [
    "# confirm the the absence of duplicated\n",
    "sum(df.duplicated())"
   ]
  },
  {
   "cell_type": "code",
   "execution_count": 109,
   "id": "48576648",
   "metadata": {},
   "outputs": [],
   "source": [
    "# save current the current dataset for future use\n",
    "df.to_csv('moviedata_02.csv', index = False)"
   ]
  },
  {
   "cell_type": "code",
   "execution_count": 110,
   "id": "0aea20a5",
   "metadata": {
    "scrolled": true
   },
   "outputs": [
    {
     "data": {
      "text/html": [
       "<div>\n",
       "<style scoped>\n",
       "    .dataframe tbody tr th:only-of-type {\n",
       "        vertical-align: middle;\n",
       "    }\n",
       "\n",
       "    .dataframe tbody tr th {\n",
       "        vertical-align: top;\n",
       "    }\n",
       "\n",
       "    .dataframe thead th {\n",
       "        text-align: right;\n",
       "    }\n",
       "</style>\n",
       "<table border=\"1\" class=\"dataframe\">\n",
       "  <thead>\n",
       "    <tr style=\"text-align: right;\">\n",
       "      <th></th>\n",
       "      <th>popularity</th>\n",
       "      <th>budget</th>\n",
       "      <th>revenue</th>\n",
       "      <th>director</th>\n",
       "      <th>runtime</th>\n",
       "      <th>genres</th>\n",
       "      <th>release_date</th>\n",
       "      <th>vote_count</th>\n",
       "      <th>vote_average</th>\n",
       "      <th>release_year</th>\n",
       "      <th>budget_adj</th>\n",
       "      <th>revenue_adj</th>\n",
       "    </tr>\n",
       "  </thead>\n",
       "  <tbody>\n",
       "    <tr>\n",
       "      <th>0</th>\n",
       "      <td>32.985763</td>\n",
       "      <td>150000000</td>\n",
       "      <td>1513528810</td>\n",
       "      <td>Colin Trevorrow</td>\n",
       "      <td>124</td>\n",
       "      <td>Action|Adventure|Science Fiction|Thriller</td>\n",
       "      <td>6/9/15</td>\n",
       "      <td>5562</td>\n",
       "      <td>6.5</td>\n",
       "      <td>2015</td>\n",
       "      <td>1.379999e+08</td>\n",
       "      <td>1.392446e+09</td>\n",
       "    </tr>\n",
       "    <tr>\n",
       "      <th>1</th>\n",
       "      <td>28.419936</td>\n",
       "      <td>150000000</td>\n",
       "      <td>378436354</td>\n",
       "      <td>George Miller</td>\n",
       "      <td>120</td>\n",
       "      <td>Action|Adventure|Science Fiction|Thriller</td>\n",
       "      <td>5/13/15</td>\n",
       "      <td>6185</td>\n",
       "      <td>7.1</td>\n",
       "      <td>2015</td>\n",
       "      <td>1.379999e+08</td>\n",
       "      <td>3.481613e+08</td>\n",
       "    </tr>\n",
       "    <tr>\n",
       "      <th>2</th>\n",
       "      <td>13.112507</td>\n",
       "      <td>110000000</td>\n",
       "      <td>295238201</td>\n",
       "      <td>Robert Schwentke</td>\n",
       "      <td>119</td>\n",
       "      <td>Adventure|Science Fiction|Thriller</td>\n",
       "      <td>3/18/15</td>\n",
       "      <td>2480</td>\n",
       "      <td>6.3</td>\n",
       "      <td>2015</td>\n",
       "      <td>1.012000e+08</td>\n",
       "      <td>2.716190e+08</td>\n",
       "    </tr>\n",
       "    <tr>\n",
       "      <th>3</th>\n",
       "      <td>11.173104</td>\n",
       "      <td>200000000</td>\n",
       "      <td>2068178225</td>\n",
       "      <td>J.J. Abrams</td>\n",
       "      <td>136</td>\n",
       "      <td>Action|Adventure|Science Fiction|Fantasy</td>\n",
       "      <td>12/15/15</td>\n",
       "      <td>5292</td>\n",
       "      <td>7.5</td>\n",
       "      <td>2015</td>\n",
       "      <td>1.839999e+08</td>\n",
       "      <td>1.902723e+09</td>\n",
       "    </tr>\n",
       "    <tr>\n",
       "      <th>4</th>\n",
       "      <td>9.335014</td>\n",
       "      <td>190000000</td>\n",
       "      <td>1506249360</td>\n",
       "      <td>James Wan</td>\n",
       "      <td>137</td>\n",
       "      <td>Action|Crime|Thriller</td>\n",
       "      <td>4/1/15</td>\n",
       "      <td>2947</td>\n",
       "      <td>7.3</td>\n",
       "      <td>2015</td>\n",
       "      <td>1.747999e+08</td>\n",
       "      <td>1.385749e+09</td>\n",
       "    </tr>\n",
       "  </tbody>\n",
       "</table>\n",
       "</div>"
      ],
      "text/plain": [
       "   popularity     budget     revenue          director  runtime  \\\n",
       "0   32.985763  150000000  1513528810   Colin Trevorrow      124   \n",
       "1   28.419936  150000000   378436354     George Miller      120   \n",
       "2   13.112507  110000000   295238201  Robert Schwentke      119   \n",
       "3   11.173104  200000000  2068178225       J.J. Abrams      136   \n",
       "4    9.335014  190000000  1506249360         James Wan      137   \n",
       "\n",
       "                                      genres release_date  vote_count  \\\n",
       "0  Action|Adventure|Science Fiction|Thriller       6/9/15        5562   \n",
       "1  Action|Adventure|Science Fiction|Thriller      5/13/15        6185   \n",
       "2         Adventure|Science Fiction|Thriller      3/18/15        2480   \n",
       "3   Action|Adventure|Science Fiction|Fantasy     12/15/15        5292   \n",
       "4                      Action|Crime|Thriller       4/1/15        2947   \n",
       "\n",
       "   vote_average  release_year    budget_adj   revenue_adj  \n",
       "0           6.5          2015  1.379999e+08  1.392446e+09  \n",
       "1           7.1          2015  1.379999e+08  3.481613e+08  \n",
       "2           6.3          2015  1.012000e+08  2.716190e+08  \n",
       "3           7.5          2015  1.839999e+08  1.902723e+09  \n",
       "4           7.3          2015  1.747999e+08  1.385749e+09  "
      ]
     },
     "execution_count": 110,
     "metadata": {},
     "output_type": "execute_result"
    }
   ],
   "source": [
    "df = pd.read_csv('moviedata_02.csv')\n",
    "df.head()"
   ]
  },
  {
   "cell_type": "code",
   "execution_count": 111,
   "id": "b7ef6226",
   "metadata": {},
   "outputs": [
    {
     "data": {
      "text/plain": [
       "dtype('O')"
      ]
     },
     "execution_count": 111,
     "metadata": {},
     "output_type": "execute_result"
    }
   ],
   "source": [
    "# check the data type of the 'release_data'\n",
    "df.release_date.dtype"
   ]
  },
  {
   "cell_type": "code",
   "execution_count": 112,
   "id": "8c5c50c1",
   "metadata": {},
   "outputs": [],
   "source": [
    "# change the 'release_date' to datetime\n",
    "df['release_date'] = pd.to_datetime(df['release_date'])"
   ]
  },
  {
   "cell_type": "code",
   "execution_count": 113,
   "id": "422231bb",
   "metadata": {},
   "outputs": [
    {
     "data": {
      "text/plain": [
       "dtype('<M8[ns]')"
      ]
     },
     "execution_count": 113,
     "metadata": {},
     "output_type": "execute_result"
    }
   ],
   "source": [
    "# confirm the date changes\n",
    "df.release_date.dtype"
   ]
  },
  {
   "cell_type": "markdown",
   "id": "bff395b3",
   "metadata": {},
   "source": [
    "Read more about this dtype [here](https://stackoverflow.com/questions/29206612/difference-between-data-type-datetime64ns-and-m8ns) "
   ]
  },
  {
   "cell_type": "markdown",
   "id": "fb8b7010",
   "metadata": {},
   "source": [
    "<a id='eda'></a>\n",
    "## Data Exploration\n",
    "- Analysis of the dataset is carried out in sections here. Comments and resources used are included"
   ]
  },
  {
   "cell_type": "markdown",
   "id": "f91c7102",
   "metadata": {},
   "source": [
    "### Research Question 1: How does the year of release, the directorship, and the genre affect the number of movies released?"
   ]
  },
  {
   "cell_type": "code",
   "execution_count": 114,
   "id": "77f14c20",
   "metadata": {
    "scrolled": false
   },
   "outputs": [
    {
     "data": {
      "text/plain": [
       "2014    694\n",
       "2013    652\n",
       "2015    624\n",
       "2012    581\n",
       "2011    539\n",
       "2009    528\n",
       "2008    488\n",
       "2010    479\n",
       "2007    435\n",
       "2006    408\n",
       "2005    363\n",
       "2004    307\n",
       "2003    281\n",
       "2002    266\n",
       "2001    241\n",
       "2000    226\n",
       "1999    224\n",
       "1998    210\n",
       "1996    203\n",
       "1997    191\n",
       "1994    184\n",
       "1993    177\n",
       "1995    174\n",
       "1988    144\n",
       "1989    136\n",
       "1991    133\n",
       "1992    133\n",
       "1990    132\n",
       "1987    125\n",
       "1986    121\n",
       "1985    108\n",
       "1984    105\n",
       "1981     82\n",
       "1982     81\n",
       "1983     80\n",
       "1980     78\n",
       "1978     65\n",
       "1977     57\n",
       "1979     57\n",
       "1973     55\n",
       "1971     55\n",
       "1976     47\n",
       "1974     46\n",
       "1966     46\n",
       "1975     44\n",
       "1964     42\n",
       "1970     40\n",
       "1972     40\n",
       "1967     39\n",
       "1968     39\n",
       "1965     35\n",
       "1963     34\n",
       "1960     32\n",
       "1962     32\n",
       "1961     31\n",
       "1969     31\n",
       "Name: release_year, dtype: int64"
      ]
     },
     "execution_count": 114,
     "metadata": {},
     "output_type": "execute_result"
    }
   ],
   "source": [
    "# the number of movies release each year\n",
    "movie_quantity = df['release_year'].value_counts()\n",
    "movie_quantity"
   ]
  },
  {
   "cell_type": "code",
   "execution_count": 115,
   "id": "b84a6316",
   "metadata": {
    "scrolled": true
   },
   "outputs": [
    {
     "data": {
      "text/plain": [
       "count     56.000000\n",
       "mean     192.857143\n",
       "std      186.156477\n",
       "min       31.000000\n",
       "25%       46.750000\n",
       "50%      128.500000\n",
       "75%      247.250000\n",
       "max      694.000000\n",
       "Name: release_year, dtype: float64"
      ]
     },
     "execution_count": 115,
     "metadata": {},
     "output_type": "execute_result"
    }
   ],
   "source": [
    "# what is the distribution of thenumber of movies released by year\n",
    "movie_quantity.describe()"
   ]
  },
  {
   "cell_type": "markdown",
   "id": "61a0fa7e",
   "metadata": {},
   "source": [
    "### Ploting the number of movies released in each year\n",
    "Refer to [this](https://seaborn.pydata.org/generated/seaborn.set_theme.html?highlight=theme#seaborn.set_theme) for information about plot themes"
   ]
  },
  {
   "cell_type": "code",
   "execution_count": 116,
   "id": "003d8db6",
   "metadata": {
    "scrolled": true
   },
   "outputs": [
    {
     "data": {
      "text/plain": [
       "Text(0, 0.5, 'Number of Movies')"
      ]
     },
     "execution_count": 116,
     "metadata": {},
     "output_type": "execute_result"
    },
    {
     "data": {
      "image/png": "[encoded data removed]",
      "text/plain": [
       "<Figure size 432x288 with 1 Axes>"
      ]
     },
     "metadata": {},
     "output_type": "display_data"
    }
   ],
   "source": [
    "# Plotting bars for visualisation\n",
    "sns.set_theme()   #use seaborn for beautifying plots\n",
    "year = df['release_year'].unique()   # for x values\n",
    "number_of_movies = df['release_year'].value_counts().values # for y values\n",
    "\n",
    "plt.bar(year, number_of_movies, color = 'g', alpha =0.8, width = 1.)\n",
    "plt.title('Number of Movies Released by Year', fontsize = 12)\n",
    "plt.xlabel('Release Year', fontsize = 12)\n",
    "plt.ylabel('Number of Movies', fontsize = 12)"
   ]
  },
  {
   "cell_type": "markdown",
   "id": "c3991076",
   "metadata": {},
   "source": [
    "### Investigating the Production of Directors\n",
    "- This section shows the number of movies produced by some high perfoming directors"
   ]
  },
  {
   "cell_type": "code",
   "execution_count": 117,
   "id": "c1529bd0",
   "metadata": {
    "scrolled": true
   },
   "outputs": [
    {
     "data": {
      "text/plain": [
       "Woody Allen                  45\n",
       "Clint Eastwood               34\n",
       "Steven Spielberg             29\n",
       "Martin Scorsese              29\n",
       "Ridley Scott                 23\n",
       "                             ..\n",
       "Larry Shaw                    1\n",
       "Laura Poitras                 1\n",
       "Damon Beesley|Iain Morris     1\n",
       "Bill Pohlad                   1\n",
       "Harold P. Warren              1\n",
       "Name: director, Length: 5056, dtype: int64"
      ]
     },
     "execution_count": 117,
     "metadata": {},
     "output_type": "execute_result"
    }
   ],
   "source": [
    "# Recap: did some directors produced more than 1 movie?\n",
    "df['director'].value_counts()"
   ]
  },
  {
   "cell_type": "code",
   "execution_count": 118,
   "id": "47f26006",
   "metadata": {},
   "outputs": [
    {
     "data": {
      "text/plain": [
       "119"
      ]
     },
     "execution_count": 118,
     "metadata": {},
     "output_type": "execute_result"
    }
   ],
   "source": [
    "# Number of directors who have 10 or more movie releases\n",
    "sum(df['director'].value_counts() >= 10)"
   ]
  },
  {
   "cell_type": "code",
   "execution_count": 119,
   "id": "67c829c4",
   "metadata": {},
   "outputs": [
    {
     "data": {
      "text/plain": [
       "9"
      ]
     },
     "execution_count": 119,
     "metadata": {},
     "output_type": "execute_result"
    }
   ],
   "source": [
    "# Number of directors who have 20 or more movie releases\n",
    "sum(df['director'].value_counts() >= 20)"
   ]
  },
  {
   "cell_type": "markdown",
   "id": "94cdb9e7",
   "metadata": {},
   "source": [
    "### Pie Chart representation for the directors that produced 20 or more movies"
   ]
  },
  {
   "cell_type": "code",
   "execution_count": 120,
   "id": "43a152d7",
   "metadata": {},
   "outputs": [
    {
     "data": {
      "text/plain": [
       "245"
      ]
     },
     "execution_count": 120,
     "metadata": {},
     "output_type": "execute_result"
    }
   ],
   "source": [
    "# the cummulative number of movies produced these directors\n",
    "df.director.value_counts().head(9).sum()"
   ]
  },
  {
   "cell_type": "code",
   "execution_count": 121,
   "id": "ee496e90",
   "metadata": {},
   "outputs": [
    {
     "data": {
      "text/plain": [
       "array([45, 34, 29, 29, 23, 22, 22, 21, 20], dtype=int64)"
      ]
     },
     "execution_count": 121,
     "metadata": {},
     "output_type": "execute_result"
    }
   ],
   "source": [
    "temp = df.director.value_counts().head(9).values\n",
    "temp"
   ]
  },
  {
   "cell_type": "code",
   "execution_count": 122,
   "id": "01b9a00f",
   "metadata": {},
   "outputs": [
    {
     "data": {
      "text/plain": [
       "Index(['Woody Allen', 'Clint Eastwood', 'Steven Spielberg', 'Martin Scorsese',\n",
       "       'Ridley Scott', 'Ron Howard', 'Steven Soderbergh', 'Joel Schumacher',\n",
       "       'Brian De Palma'],\n",
       "      dtype='object')"
      ]
     },
     "execution_count": 122,
     "metadata": {},
     "output_type": "execute_result"
    }
   ],
   "source": [
    "directors = df.director.value_counts().head(9).index\n",
    "directors"
   ]
  },
  {
   "cell_type": "markdown",
   "id": "0c6a43f0",
   "metadata": {},
   "source": [
    "Use [this](https://stackoverflow.com/questions/54564641/different-colors-for-each-label-in-my-pie-chart) and [this](https://matplotlib.org/stable/gallery/pie_and_polar_charts/pie_features.html?highlight=pie%20chart) for your pie chart guidelines"
   ]
  },
  {
   "cell_type": "code",
   "execution_count": 123,
   "id": "9d38801c",
   "metadata": {},
   "outputs": [
    {
     "data": {
      "image/png": "[encoded data removed]",
      "text/plain": [
       "<Figure size 432x288 with 1 Axes>"
      ]
     },
     "metadata": {},
     "output_type": "display_data"
    }
   ],
   "source": [
    "# Pie chart, where the slices will be ordered and plotted anti-clockwise:\n",
    "labels = directors\n",
    "sizes = temp\n",
    "explode = (0.1, 0, 0, 0, 0, 0, 0, 0, 0)  # exploding the slice with the biggest share\n",
    "\n",
    "fig1, ax1 = plt.subplots()\n",
    "ax1.pie(sizes, explode=explode, labels=labels, autopct='%1.2f%%',\n",
    "        shadow=True, startangle=45) # using default color list\n",
    "ax1.axis('equal')  # Equal aspect ratio ensures that pie is drawn as a circle.\n",
    "ax1.set_title('Pie Chart by Directors Who Produced 20 or More Movies', fontsize = 14)\n",
    "plt.show()"
   ]
  },
  {
   "cell_type": "markdown",
   "id": "1581b564",
   "metadata": {},
   "source": [
    "### Exploring the 'genres' produced\n",
    "- This is to find out the genres producers are most intrested about "
   ]
  },
  {
   "cell_type": "code",
   "execution_count": 124,
   "id": "f4ab434c",
   "metadata": {},
   "outputs": [
    {
     "data": {
      "text/plain": [
       "Drama                                      711\n",
       "Comedy                                     707\n",
       "Documentary                                306\n",
       "Drama|Romance                              289\n",
       "Comedy|Drama                               280\n",
       "                                          ... \n",
       "Action|Thriller|Science Fiction|Mystery      1\n",
       "Comedy|Music|Romance|Foreign                 1\n",
       "Documentary|Drama|Comedy                     1\n",
       "Fantasy|Drama|Science Fiction|Family         1\n",
       "Mystery|Science Fiction|Thriller|Drama       1\n",
       "Name: genres, Length: 2031, dtype: int64"
      ]
     },
     "execution_count": 124,
     "metadata": {},
     "output_type": "execute_result"
    }
   ],
   "source": [
    "df['genres'].value_counts()"
   ]
  },
  {
   "cell_type": "code",
   "execution_count": 103,
   "id": "27cc29ae",
   "metadata": {},
   "outputs": [
    {
     "data": {
      "text/plain": [
       "count    2039.000000\n",
       "mean        5.317312\n",
       "std        28.515768\n",
       "min         1.000000\n",
       "25%         1.000000\n",
       "50%         1.000000\n",
       "75%         3.000000\n",
       "max       712.000000\n",
       "Name: genres, dtype: float64"
      ]
     },
     "execution_count": 103,
     "metadata": {},
     "output_type": "execute_result"
    }
   ],
   "source": [
    "df['genres'].value_counts().describe()"
   ]
  },
  {
   "cell_type": "markdown",
   "id": "ddfd654b",
   "metadata": {},
   "source": [
    "The distribution shows extreme gabs between the classes, so I'll consider the top most genres"
   ]
  },
  {
   "cell_type": "code",
   "execution_count": 128,
   "id": "3eb318e6",
   "metadata": {},
   "outputs": [
    {
     "data": {
      "text/plain": [
       "12"
      ]
     },
     "execution_count": 128,
     "metadata": {},
     "output_type": "execute_result"
    }
   ],
   "source": [
    "# Get the 'genres' appearing 100 times or more\n",
    "sum(df['genres'].value_counts() >= 100)"
   ]
  },
  {
   "cell_type": "code",
   "execution_count": 129,
   "id": "1b43b66f",
   "metadata": {},
   "outputs": [
    {
     "data": {
      "text/plain": [
       "Index(['Drama', 'Comedy', 'Documentary', 'Drama|Romance', 'Comedy|Drama',\n",
       "       'Comedy|Romance', 'Horror|Thriller', 'Horror', 'Comedy|Drama|Romance',\n",
       "       'Drama|Thriller', 'Comedy|Family', 'Action|Thriller'],\n",
       "      dtype='object')"
      ]
     },
     "execution_count": 129,
     "metadata": {},
     "output_type": "execute_result"
    }
   ],
   "source": [
    "top_genres = df['genres'].value_counts().head(12).index\n",
    "top_genres"
   ]
  },
  {
   "cell_type": "code",
   "execution_count": 130,
   "id": "9d4d9b47",
   "metadata": {
    "scrolled": true
   },
   "outputs": [
    {
     "data": {
      "text/plain": [
       "array([711, 707, 306, 289, 280, 267, 259, 253, 222, 138, 102, 101],\n",
       "      dtype=int64)"
      ]
     },
     "execution_count": 130,
     "metadata": {},
     "output_type": "execute_result"
    }
   ],
   "source": [
    "total_movies = df['genres'].value_counts().head(12).values\n",
    "total_movies"
   ]
  },
  {
   "cell_type": "markdown",
   "id": "a4281298",
   "metadata": {},
   "source": [
    "More information [here](https://matplotlib.org/stable/api/_as_gen/matplotlib.pyplot.scatter.html?highlight=scatter#matplotlib.pyplot.scatter) and [here](https://stackoverflow.com/questions/37084305/rotating-xticks-in-python) "
   ]
  },
  {
   "cell_type": "code",
   "execution_count": 131,
   "id": "a376bdb0",
   "metadata": {},
   "outputs": [
    {
     "data": {
      "image/png": "[encoded data removed]",
      "text/plain": [
       "<Figure size 432x288 with 1 Axes>"
      ]
     },
     "metadata": {},
     "output_type": "display_data"
    }
   ],
   "source": [
    "sns.set_theme(style='darkgrid')\n",
    "plt.scatter(top_genres, total_movies, marker = 'D', color='r', alpha = 0.8);\n",
    "plt.xticks(top_genres, rotation = 90);"
   ]
  },
  {
   "cell_type": "code",
   "execution_count": 132,
   "id": "1341e013",
   "metadata": {},
   "outputs": [],
   "source": [
    "df.to_csv('moviedata_03.csv', index = False)"
   ]
  },
  {
   "cell_type": "markdown",
   "id": "564e8067",
   "metadata": {},
   "source": [
    "### Research Question 2: How is the revenue generated affected by the popularity, year of release, directorship, and the budget"
   ]
  },
  {
   "cell_type": "code",
   "execution_count": 133,
   "id": "f3803f99",
   "metadata": {},
   "outputs": [
    {
     "name": "stdout",
     "output_type": "stream",
     "text": [
      "<class 'pandas.core.frame.DataFrame'>\n",
      "RangeIndex: 10800 entries, 0 to 10799\n",
      "Data columns (total 12 columns):\n",
      " #   Column        Non-Null Count  Dtype  \n",
      "---  ------        --------------  -----  \n",
      " 0   popularity    10800 non-null  float64\n",
      " 1   budget        10800 non-null  int64  \n",
      " 2   revenue       10800 non-null  int64  \n",
      " 3   director      10800 non-null  object \n",
      " 4   runtime       10800 non-null  int64  \n",
      " 5   genres        10800 non-null  object \n",
      " 6   release_date  10800 non-null  object \n",
      " 7   vote_count    10800 non-null  int64  \n",
      " 8   vote_average  10800 non-null  float64\n",
      " 9   release_year  10800 non-null  int64  \n",
      " 10  budget_adj    10800 non-null  float64\n",
      " 11  revenue_adj   10800 non-null  float64\n",
      "dtypes: float64(4), int64(5), object(3)\n",
      "memory usage: 1012.6+ KB\n"
     ]
    }
   ],
   "source": [
    "df = pd.read_csv('moviedata_03.csv')\n",
    "df.info()"
   ]
  },
  {
   "cell_type": "markdown",
   "id": "dd31f5c5",
   "metadata": {},
   "source": [
    "### What type of correlation exists between Popularity and Revenue"
   ]
  },
  {
   "cell_type": "code",
   "execution_count": 134,
   "id": "b416fceb",
   "metadata": {},
   "outputs": [
    {
     "data": {
      "image/png": "[encoded data removed]",
      "text/plain": [
       "<Figure size 720x720 with 1 Axes>"
      ]
     },
     "metadata": {},
     "output_type": "display_data"
    }
   ],
   "source": [
    "sns.set_theme()\n",
    "df.plot(x='revenue', y='popularity', kind = 'scatter', figsize = (10,10), \n",
    "       fontsize = 12, c = 'r');\n",
    "plt.xlabel('Revenue', fontsize = 14)\n",
    "plt.ylabel('Popularity', fontsize = 14)\n",
    "plt.title('Relationship between Revenue and Popularity', fontsize = 18);"
   ]
  },
  {
   "cell_type": "markdown",
   "id": "9cd1de31",
   "metadata": {},
   "source": [
    "It is a positive correlation, concentrated at the bottom"
   ]
  },
  {
   "cell_type": "code",
   "execution_count": 9,
   "id": "42f11368",
   "metadata": {
    "scrolled": true
   },
   "outputs": [
    {
     "data": {
      "image/png": "[encoded data removed]",
      "text/plain": [
       "<Figure size 720x720 with 1 Axes>"
      ]
     },
     "metadata": {},
     "output_type": "display_data"
    }
   ],
   "source": [
    "# a histogram to see the trend of the number of movies produced yearly\n",
    "df['release_year'].plot(kind = 'hist', figsize = (10,10), grid = 'on');\n",
    "plt.xlabel('Year', fontsize = 14)\n",
    "plt.ylabel('Number of movies', fontsize = 14)\n",
    "plt.title('Trend of Movies Produced Each Year');"
   ]
  },
  {
   "cell_type": "markdown",
   "id": "2b17ffdb",
   "metadata": {},
   "source": [
    "The number of movies produced increses every decade after 1970"
   ]
  },
  {
   "cell_type": "code",
   "execution_count": 135,
   "id": "71ccfd98",
   "metadata": {},
   "outputs": [],
   "source": [
    "df['release_year'] = df['release_year'].astype('str')"
   ]
  },
  {
   "cell_type": "markdown",
   "id": "4a8832a5",
   "metadata": {},
   "source": [
    "### How are the revenue and budget each year "
   ]
  },
  {
   "cell_type": "code",
   "execution_count": 141,
   "id": "a11f8d56",
   "metadata": {
    "scrolled": false
   },
   "outputs": [
    {
     "data": {
      "text/html": [
       "<div>\n",
       "<style scoped>\n",
       "    .dataframe tbody tr th:only-of-type {\n",
       "        vertical-align: middle;\n",
       "    }\n",
       "\n",
       "    .dataframe tbody tr th {\n",
       "        vertical-align: top;\n",
       "    }\n",
       "\n",
       "    .dataframe thead th {\n",
       "        text-align: right;\n",
       "    }\n",
       "</style>\n",
       "<table border=\"1\" class=\"dataframe\">\n",
       "  <thead>\n",
       "    <tr style=\"text-align: right;\">\n",
       "      <th></th>\n",
       "      <th>release_year</th>\n",
       "      <th>revenue</th>\n",
       "      <th>budget</th>\n",
       "    </tr>\n",
       "  </thead>\n",
       "  <tbody>\n",
       "    <tr>\n",
       "      <th>0</th>\n",
       "      <td>1960</td>\n",
       "      <td>145005000</td>\n",
       "      <td>22056948</td>\n",
       "    </tr>\n",
       "    <tr>\n",
       "      <th>1</th>\n",
       "      <td>1961</td>\n",
       "      <td>337720188</td>\n",
       "      <td>46137000</td>\n",
       "    </tr>\n",
       "    <tr>\n",
       "      <th>2</th>\n",
       "      <td>1962</td>\n",
       "      <td>215579846</td>\n",
       "      <td>54722126</td>\n",
       "    </tr>\n",
       "    <tr>\n",
       "      <th>3</th>\n",
       "      <td>1963</td>\n",
       "      <td>187404989</td>\n",
       "      <td>73331500</td>\n",
       "    </tr>\n",
       "    <tr>\n",
       "      <th>4</th>\n",
       "      <td>1964</td>\n",
       "      <td>340981782</td>\n",
       "      <td>39483161</td>\n",
       "    </tr>\n",
       "    <tr>\n",
       "      <th>5</th>\n",
       "      <td>1965</td>\n",
       "      <td>458081854</td>\n",
       "      <td>70205115</td>\n",
       "    </tr>\n",
       "    <tr>\n",
       "      <th>6</th>\n",
       "      <td>1966</td>\n",
       "      <td>84736689</td>\n",
       "      <td>57554800</td>\n",
       "    </tr>\n",
       "    <tr>\n",
       "      <th>7</th>\n",
       "      <td>1967</td>\n",
       "      <td>737834637</td>\n",
       "      <td>100652200</td>\n",
       "    </tr>\n",
       "    <tr>\n",
       "      <th>8</th>\n",
       "      <td>1968</td>\n",
       "      <td>264732980</td>\n",
       "      <td>71939000</td>\n",
       "    </tr>\n",
       "    <tr>\n",
       "      <th>9</th>\n",
       "      <td>1969</td>\n",
       "      <td>243957076</td>\n",
       "      <td>42129087</td>\n",
       "    </tr>\n",
       "    <tr>\n",
       "      <th>10</th>\n",
       "      <td>1970</td>\n",
       "      <td>560221969</td>\n",
       "      <td>126961946</td>\n",
       "    </tr>\n",
       "    <tr>\n",
       "      <th>11</th>\n",
       "      <td>1971</td>\n",
       "      <td>404910610</td>\n",
       "      <td>75997000</td>\n",
       "    </tr>\n",
       "    <tr>\n",
       "      <th>12</th>\n",
       "      <td>1972</td>\n",
       "      <td>494730171</td>\n",
       "      <td>36279254</td>\n",
       "    </tr>\n",
       "    <tr>\n",
       "      <th>13</th>\n",
       "      <td>1973</td>\n",
       "      <td>1223981102</td>\n",
       "      <td>65190783</td>\n",
       "    </tr>\n",
       "    <tr>\n",
       "      <th>14</th>\n",
       "      <td>1974</td>\n",
       "      <td>812539818</td>\n",
       "      <td>76970000</td>\n",
       "    </tr>\n",
       "    <tr>\n",
       "      <th>15</th>\n",
       "      <td>1975</td>\n",
       "      <td>957489966</td>\n",
       "      <td>56279000</td>\n",
       "    </tr>\n",
       "    <tr>\n",
       "      <th>16</th>\n",
       "      <td>1976</td>\n",
       "      <td>801005600</td>\n",
       "      <td>122150000</td>\n",
       "    </tr>\n",
       "    <tr>\n",
       "      <th>17</th>\n",
       "      <td>1977</td>\n",
       "      <td>2180583159</td>\n",
       "      <td>161580000</td>\n",
       "    </tr>\n",
       "    <tr>\n",
       "      <th>18</th>\n",
       "      <td>1978</td>\n",
       "      <td>1369779659</td>\n",
       "      <td>208997011</td>\n",
       "    </tr>\n",
       "    <tr>\n",
       "      <th>19</th>\n",
       "      <td>1979</td>\n",
       "      <td>1684794913</td>\n",
       "      <td>254814000</td>\n",
       "    </tr>\n",
       "    <tr>\n",
       "      <th>20</th>\n",
       "      <td>1980</td>\n",
       "      <td>1768662387</td>\n",
       "      <td>362500000</td>\n",
       "    </tr>\n",
       "    <tr>\n",
       "      <th>21</th>\n",
       "      <td>1981</td>\n",
       "      <td>1774606236</td>\n",
       "      <td>373757786</td>\n",
       "    </tr>\n",
       "    <tr>\n",
       "      <th>22</th>\n",
       "      <td>1982</td>\n",
       "      <td>2458443852</td>\n",
       "      <td>437795002</td>\n",
       "    </tr>\n",
       "    <tr>\n",
       "      <th>23</th>\n",
       "      <td>1983</td>\n",
       "      <td>2307529320</td>\n",
       "      <td>519107412</td>\n",
       "    </tr>\n",
       "    <tr>\n",
       "      <th>24</th>\n",
       "      <td>1984</td>\n",
       "      <td>2635524418</td>\n",
       "      <td>729211964</td>\n",
       "    </tr>\n",
       "    <tr>\n",
       "      <th>25</th>\n",
       "      <td>1985</td>\n",
       "      <td>2875772392</td>\n",
       "      <td>748720637</td>\n",
       "    </tr>\n",
       "    <tr>\n",
       "      <th>26</th>\n",
       "      <td>1986</td>\n",
       "      <td>3002778281</td>\n",
       "      <td>704533613</td>\n",
       "    </tr>\n",
       "    <tr>\n",
       "      <th>27</th>\n",
       "      <td>1987</td>\n",
       "      <td>3462104847</td>\n",
       "      <td>709455811</td>\n",
       "    </tr>\n",
       "    <tr>\n",
       "      <th>28</th>\n",
       "      <td>1988</td>\n",
       "      <td>3739550845</td>\n",
       "      <td>925348000</td>\n",
       "    </tr>\n",
       "    <tr>\n",
       "      <th>29</th>\n",
       "      <td>1989</td>\n",
       "      <td>5164923718</td>\n",
       "      <td>1079656360</td>\n",
       "    </tr>\n",
       "    <tr>\n",
       "      <th>30</th>\n",
       "      <td>1990</td>\n",
       "      <td>5315166660</td>\n",
       "      <td>1289922066</td>\n",
       "    </tr>\n",
       "    <tr>\n",
       "      <th>31</th>\n",
       "      <td>1991</td>\n",
       "      <td>4706599796</td>\n",
       "      <td>1466233000</td>\n",
       "    </tr>\n",
       "    <tr>\n",
       "      <th>32</th>\n",
       "      <td>1992</td>\n",
       "      <td>6078153217</td>\n",
       "      <td>1441765370</td>\n",
       "    </tr>\n",
       "    <tr>\n",
       "      <th>33</th>\n",
       "      <td>1993</td>\n",
       "      <td>6955151167</td>\n",
       "      <td>1779628653</td>\n",
       "    </tr>\n",
       "    <tr>\n",
       "      <th>34</th>\n",
       "      <td>1994</td>\n",
       "      <td>7095429177</td>\n",
       "      <td>2229207032</td>\n",
       "    </tr>\n",
       "    <tr>\n",
       "      <th>35</th>\n",
       "      <td>1995</td>\n",
       "      <td>9156341160</td>\n",
       "      <td>2865884377</td>\n",
       "    </tr>\n",
       "    <tr>\n",
       "      <th>36</th>\n",
       "      <td>1996</td>\n",
       "      <td>8311492279</td>\n",
       "      <td>3687042051</td>\n",
       "    </tr>\n",
       "    <tr>\n",
       "      <th>37</th>\n",
       "      <td>1997</td>\n",
       "      <td>10655173234</td>\n",
       "      <td>4751086675</td>\n",
       "    </tr>\n",
       "    <tr>\n",
       "      <th>38</th>\n",
       "      <td>1998</td>\n",
       "      <td>9493174938</td>\n",
       "      <td>4499660000</td>\n",
       "    </tr>\n",
       "    <tr>\n",
       "      <th>39</th>\n",
       "      <td>1999</td>\n",
       "      <td>11355712579</td>\n",
       "      <td>5765235106</td>\n",
       "    </tr>\n",
       "    <tr>\n",
       "      <th>40</th>\n",
       "      <td>2000</td>\n",
       "      <td>10978701012</td>\n",
       "      <td>5752700000</td>\n",
       "    </tr>\n",
       "    <tr>\n",
       "      <th>41</th>\n",
       "      <td>2001</td>\n",
       "      <td>13410083139</td>\n",
       "      <td>5641944000</td>\n",
       "    </tr>\n",
       "    <tr>\n",
       "      <th>42</th>\n",
       "      <td>2002</td>\n",
       "      <td>14643618528</td>\n",
       "      <td>5894640255</td>\n",
       "    </tr>\n",
       "    <tr>\n",
       "      <th>43</th>\n",
       "      <td>2003</td>\n",
       "      <td>15138243542</td>\n",
       "      <td>6239857694</td>\n",
       "    </tr>\n",
       "    <tr>\n",
       "      <th>44</th>\n",
       "      <td>2004</td>\n",
       "      <td>16793822618</td>\n",
       "      <td>7170340222</td>\n",
       "    </tr>\n",
       "    <tr>\n",
       "      <th>45</th>\n",
       "      <td>2005</td>\n",
       "      <td>16516835108</td>\n",
       "      <td>7343284349</td>\n",
       "    </tr>\n",
       "    <tr>\n",
       "      <th>46</th>\n",
       "      <td>2006</td>\n",
       "      <td>16275739385</td>\n",
       "      <td>7306185300</td>\n",
       "    </tr>\n",
       "    <tr>\n",
       "      <th>47</th>\n",
       "      <td>2007</td>\n",
       "      <td>19411668670</td>\n",
       "      <td>7635569004</td>\n",
       "    </tr>\n",
       "    <tr>\n",
       "      <th>48</th>\n",
       "      <td>2008</td>\n",
       "      <td>19420695138</td>\n",
       "      <td>7777082597</td>\n",
       "    </tr>\n",
       "    <tr>\n",
       "      <th>49</th>\n",
       "      <td>2009</td>\n",
       "      <td>22180170559</td>\n",
       "      <td>8590834056</td>\n",
       "    </tr>\n",
       "    <tr>\n",
       "      <th>50</th>\n",
       "      <td>2010</td>\n",
       "      <td>21959031545</td>\n",
       "      <td>9355001006</td>\n",
       "    </tr>\n",
       "    <tr>\n",
       "      <th>51</th>\n",
       "      <td>2011</td>\n",
       "      <td>23695591578</td>\n",
       "      <td>9018153652</td>\n",
       "    </tr>\n",
       "    <tr>\n",
       "      <th>52</th>\n",
       "      <td>2012</td>\n",
       "      <td>24668428824</td>\n",
       "      <td>8274084052</td>\n",
       "    </tr>\n",
       "    <tr>\n",
       "      <th>53</th>\n",
       "      <td>2013</td>\n",
       "      <td>24703633017</td>\n",
       "      <td>9231038361</td>\n",
       "    </tr>\n",
       "    <tr>\n",
       "      <th>54</th>\n",
       "      <td>2014</td>\n",
       "      <td>24331150183</td>\n",
       "      <td>7923840138</td>\n",
       "    </tr>\n",
       "    <tr>\n",
       "      <th>55</th>\n",
       "      <td>2015</td>\n",
       "      <td>26762450518</td>\n",
       "      <td>7596547557</td>\n",
       "    </tr>\n",
       "  </tbody>\n",
       "</table>\n",
       "</div>"
      ],
      "text/plain": [
       "   release_year      revenue      budget\n",
       "0          1960    145005000    22056948\n",
       "1          1961    337720188    46137000\n",
       "2          1962    215579846    54722126\n",
       "3          1963    187404989    73331500\n",
       "4          1964    340981782    39483161\n",
       "5          1965    458081854    70205115\n",
       "6          1966     84736689    57554800\n",
       "7          1967    737834637   100652200\n",
       "8          1968    264732980    71939000\n",
       "9          1969    243957076    42129087\n",
       "10         1970    560221969   126961946\n",
       "11         1971    404910610    75997000\n",
       "12         1972    494730171    36279254\n",
       "13         1973   1223981102    65190783\n",
       "14         1974    812539818    76970000\n",
       "15         1975    957489966    56279000\n",
       "16         1976    801005600   122150000\n",
       "17         1977   2180583159   161580000\n",
       "18         1978   1369779659   208997011\n",
       "19         1979   1684794913   254814000\n",
       "20         1980   1768662387   362500000\n",
       "21         1981   1774606236   373757786\n",
       "22         1982   2458443852   437795002\n",
       "23         1983   2307529320   519107412\n",
       "24         1984   2635524418   729211964\n",
       "25         1985   2875772392   748720637\n",
       "26         1986   3002778281   704533613\n",
       "27         1987   3462104847   709455811\n",
       "28         1988   3739550845   925348000\n",
       "29         1989   5164923718  1079656360\n",
       "30         1990   5315166660  1289922066\n",
       "31         1991   4706599796  1466233000\n",
       "32         1992   6078153217  1441765370\n",
       "33         1993   6955151167  1779628653\n",
       "34         1994   7095429177  2229207032\n",
       "35         1995   9156341160  2865884377\n",
       "36         1996   8311492279  3687042051\n",
       "37         1997  10655173234  4751086675\n",
       "38         1998   9493174938  4499660000\n",
       "39         1999  11355712579  5765235106\n",
       "40         2000  10978701012  5752700000\n",
       "41         2001  13410083139  5641944000\n",
       "42         2002  14643618528  5894640255\n",
       "43         2003  15138243542  6239857694\n",
       "44         2004  16793822618  7170340222\n",
       "45         2005  16516835108  7343284349\n",
       "46         2006  16275739385  7306185300\n",
       "47         2007  19411668670  7635569004\n",
       "48         2008  19420695138  7777082597\n",
       "49         2009  22180170559  8590834056\n",
       "50         2010  21959031545  9355001006\n",
       "51         2011  23695591578  9018153652\n",
       "52         2012  24668428824  8274084052\n",
       "53         2013  24703633017  9231038361\n",
       "54         2014  24331150183  7923840138\n",
       "55         2015  26762450518  7596547557"
      ]
     },
     "execution_count": 141,
     "metadata": {},
     "output_type": "execute_result"
    }
   ],
   "source": [
    "temp = df.groupby(['release_year'], as_index = False)[['revenue', 'budget']].sum()\n",
    "temp"
   ]
  },
  {
   "cell_type": "code",
   "execution_count": 143,
   "id": "fec3e51f",
   "metadata": {},
   "outputs": [
    {
     "data": {
      "text/html": [
       "<div>\n",
       "<style scoped>\n",
       "    .dataframe tbody tr th:only-of-type {\n",
       "        vertical-align: middle;\n",
       "    }\n",
       "\n",
       "    .dataframe tbody tr th {\n",
       "        vertical-align: top;\n",
       "    }\n",
       "\n",
       "    .dataframe thead th {\n",
       "        text-align: right;\n",
       "    }\n",
       "</style>\n",
       "<table border=\"1\" class=\"dataframe\">\n",
       "  <thead>\n",
       "    <tr style=\"text-align: right;\">\n",
       "      <th></th>\n",
       "      <th>revenue</th>\n",
       "      <th>budget</th>\n",
       "    </tr>\n",
       "  </thead>\n",
       "  <tbody>\n",
       "    <tr>\n",
       "      <th>count</th>\n",
       "      <td>5.600000e+01</td>\n",
       "      <td>5.600000e+01</td>\n",
       "    </tr>\n",
       "    <tr>\n",
       "      <th>mean</th>\n",
       "      <td>7.726933e+09</td>\n",
       "      <td>2.837148e+09</td>\n",
       "    </tr>\n",
       "    <tr>\n",
       "      <th>std</th>\n",
       "      <td>8.331862e+09</td>\n",
       "      <td>3.300471e+09</td>\n",
       "    </tr>\n",
       "    <tr>\n",
       "      <th>min</th>\n",
       "      <td>8.473669e+07</td>\n",
       "      <td>2.205695e+07</td>\n",
       "    </tr>\n",
       "    <tr>\n",
       "      <th>25%</th>\n",
       "      <td>8.096563e+08</td>\n",
       "      <td>9.473165e+07</td>\n",
       "    </tr>\n",
       "    <tr>\n",
       "      <th>50%</th>\n",
       "      <td>3.600828e+09</td>\n",
       "      <td>8.370343e+08</td>\n",
       "    </tr>\n",
       "    <tr>\n",
       "      <th>75%</th>\n",
       "      <td>1.371847e+10</td>\n",
       "      <td>5.797586e+09</td>\n",
       "    </tr>\n",
       "    <tr>\n",
       "      <th>max</th>\n",
       "      <td>2.676245e+10</td>\n",
       "      <td>9.355001e+09</td>\n",
       "    </tr>\n",
       "  </tbody>\n",
       "</table>\n",
       "</div>"
      ],
      "text/plain": [
       "            revenue        budget\n",
       "count  5.600000e+01  5.600000e+01\n",
       "mean   7.726933e+09  2.837148e+09\n",
       "std    8.331862e+09  3.300471e+09\n",
       "min    8.473669e+07  2.205695e+07\n",
       "25%    8.096563e+08  9.473165e+07\n",
       "50%    3.600828e+09  8.370343e+08\n",
       "75%    1.371847e+10  5.797586e+09\n",
       "max    2.676245e+10  9.355001e+09"
      ]
     },
     "execution_count": 143,
     "metadata": {},
     "output_type": "execute_result"
    }
   ],
   "source": [
    "temp.describe()"
   ]
  },
  {
   "cell_type": "markdown",
   "id": "6e5c8a60",
   "metadata": {},
   "source": [
    "This results show that revenue is generally higher than expenditure/budget"
   ]
  },
  {
   "cell_type": "code",
   "execution_count": 137,
   "id": "700099c9",
   "metadata": {},
   "outputs": [
    {
     "data": {
      "text/plain": [
       "release_year           2015\n",
       "revenue         26762450518\n",
       "budget           9355001006\n",
       "dtype: object"
      ]
     },
     "execution_count": 137,
     "metadata": {},
     "output_type": "execute_result"
    }
   ],
   "source": [
    "# year with maximum revenue\n",
    "temp.max()"
   ]
  },
  {
   "cell_type": "code",
   "execution_count": 138,
   "id": "ee7b7fbe",
   "metadata": {},
   "outputs": [
    {
     "data": {
      "text/plain": [
       "release_year        1960\n",
       "revenue         84736689\n",
       "budget          22056948\n",
       "dtype: object"
      ]
     },
     "execution_count": 138,
     "metadata": {},
     "output_type": "execute_result"
    }
   ],
   "source": [
    "# year with min revenue\n",
    "temp.min()"
   ]
  },
  {
   "cell_type": "markdown",
   "id": "d125a288",
   "metadata": {},
   "source": [
    "### How many directors made more the 75th percentile or more of the total revenue"
   ]
  },
  {
   "cell_type": "code",
   "execution_count": 31,
   "id": "ab4aafc7",
   "metadata": {},
   "outputs": [
    {
     "data": {
      "text/html": [
       "<div>\n",
       "<style scoped>\n",
       "    .dataframe tbody tr th:only-of-type {\n",
       "        vertical-align: middle;\n",
       "    }\n",
       "\n",
       "    .dataframe tbody tr th {\n",
       "        vertical-align: top;\n",
       "    }\n",
       "\n",
       "    .dataframe thead th {\n",
       "        text-align: right;\n",
       "    }\n",
       "</style>\n",
       "<table border=\"1\" class=\"dataframe\">\n",
       "  <thead>\n",
       "    <tr style=\"text-align: right;\">\n",
       "      <th></th>\n",
       "      <th>revenue</th>\n",
       "      <th>budget</th>\n",
       "    </tr>\n",
       "  </thead>\n",
       "  <tbody>\n",
       "    <tr>\n",
       "      <th>count</th>\n",
       "      <td>5.056000e+03</td>\n",
       "      <td>5.056000e+03</td>\n",
       "    </tr>\n",
       "    <tr>\n",
       "      <th>mean</th>\n",
       "      <td>8.558311e+07</td>\n",
       "      <td>3.142411e+07</td>\n",
       "    </tr>\n",
       "    <tr>\n",
       "      <th>std</th>\n",
       "      <td>3.517405e+08</td>\n",
       "      <td>1.013858e+08</td>\n",
       "    </tr>\n",
       "    <tr>\n",
       "      <th>min</th>\n",
       "      <td>0.000000e+00</td>\n",
       "      <td>0.000000e+00</td>\n",
       "    </tr>\n",
       "    <tr>\n",
       "      <th>25%</th>\n",
       "      <td>0.000000e+00</td>\n",
       "      <td>0.000000e+00</td>\n",
       "    </tr>\n",
       "    <tr>\n",
       "      <th>50%</th>\n",
       "      <td>0.000000e+00</td>\n",
       "      <td>0.000000e+00</td>\n",
       "    </tr>\n",
       "    <tr>\n",
       "      <th>75%</th>\n",
       "      <td>1.942224e+07</td>\n",
       "      <td>1.560000e+07</td>\n",
       "    </tr>\n",
       "    <tr>\n",
       "      <th>max</th>\n",
       "      <td>9.018564e+09</td>\n",
       "      <td>1.589950e+09</td>\n",
       "    </tr>\n",
       "  </tbody>\n",
       "</table>\n",
       "</div>"
      ],
      "text/plain": [
       "            revenue        budget\n",
       "count  5.056000e+03  5.056000e+03\n",
       "mean   8.558311e+07  3.142411e+07\n",
       "std    3.517405e+08  1.013858e+08\n",
       "min    0.000000e+00  0.000000e+00\n",
       "25%    0.000000e+00  0.000000e+00\n",
       "50%    0.000000e+00  0.000000e+00\n",
       "75%    1.942224e+07  1.560000e+07\n",
       "max    9.018564e+09  1.589950e+09"
      ]
     },
     "execution_count": 31,
     "metadata": {},
     "output_type": "execute_result"
    }
   ],
   "source": [
    "director_revenue = df.groupby(['director'], as_index = False)[['revenue', 'budget']].sum()\n",
    "director_revenue.describe()"
   ]
  },
  {
   "cell_type": "code",
   "execution_count": 32,
   "id": "e3bc5c9d",
   "metadata": {},
   "outputs": [
    {
     "data": {
      "text/plain": [
       "1264"
      ]
     },
     "execution_count": 32,
     "metadata": {},
     "output_type": "execute_result"
    }
   ],
   "source": [
    "# the number that made 75th percentile or more of the total revenue\n",
    "sum(df.groupby('director').sum().revenue >= 1.942224e+07)"
   ]
  },
  {
   "cell_type": "code",
   "execution_count": 139,
   "id": "f0c94daa",
   "metadata": {},
   "outputs": [
    {
     "data": {
      "text/plain": [
       "director    Ã€lex Pastor|David Pastor\n",
       "revenue                    9018563772\n",
       "budget                     1589950000\n",
       "dtype: object"
      ]
     },
     "execution_count": 139,
     "metadata": {},
     "output_type": "execute_result"
    }
   ],
   "source": [
    "# The director with the biggest revenue\n",
    "director_revenue.max()"
   ]
  },
  {
   "cell_type": "markdown",
   "id": "b73bc79f",
   "metadata": {},
   "source": [
    "<a id='conclusions'></a>\n",
    "## Conclusion\n",
    "1. The number of movies produced each varies from one year to another with no unique partern as observed from the bar graph, but the decade movie production increases successively after the second decade as seen in the histogram\n",
    "\n",
    "2. A total of 119 directors out of the 5000+ directors produced more 10 or more movies, while only 9 directors succeeded in producing 20 or more movies\n",
    "\n",
    "3. The 9 directors produced a total of 245 movies out of which Woody Allen made 18.37% (45), the highest amoung the producers. This is shown the exploded pie chart\n",
    "\n",
    "4. The genre preferation shows that the top 5 common genres were Drama, Comedy, Documentary, Drama|Romance and Comedy|Romance. They had the following appearances: 711, 707, 312, 289, and 280. Visualisation is shown in a scatter diagram\n",
    "\n",
    "5. There was a positive correlation between popularity and revenue, showing that populous movies generated more revenue, generally\n",
    "\n",
    "6. A study of the revenue and budget indicated that the movie industry is generally profitable, the revenue is always greater than the budget. The year 2015 had the largest revenue while 1960 had the smallest.\n",
    "\n",
    "7. The directorship with the largest revenue was Aelex Pastor|David Pastor"
   ]
  },
  {
   "cell_type": "code",
   "execution_count": null,
   "id": "a055c1c3",
   "metadata": {},
   "outputs": [],
   "source": []
  }
 ],
 "metadata": {
  "kernelspec": {
   "display_name": "Python 3 (ipykernel)",
   "language": "python",
   "name": "python3"
  },
  "language_info": {
   "codemirror_mode": {
    "name": "ipython",
    "version": 3
   },
   "file_extension": ".py",
   "mimetype": "text/x-python",
   "name": "python",
   "nbconvert_exporter": "python",
   "pygments_lexer": "ipython3",
   "version": "3.9.7"
  }
 },
 "nbformat": 4,
 "nbformat_minor": 5
}
